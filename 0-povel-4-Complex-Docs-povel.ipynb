{
 "cells": [
  {
   "cell_type": "markdown",
   "id": "60ec6048-44e4-4118-b16a-9c4c9cc78a3b",
   "metadata": {},
   "source": [
    "# How to deal with complex/large Documents"
   ]
  },
  {
   "cell_type": "markdown",
   "id": "9281ac79-47cd-49d4-bdd4-7f5c173a947d",
   "metadata": {},
   "source": [
    "In the previous notebook, we developed a solution for various types of files and data formats commonly found in organizations, and this covers 90% of the use cases. However, you will find that there are issues when dealing with questions that require answers from complex files. The complexity of these files arises from their length and the way information is distributed within them. Large documents are always a challenge for Search Engines.\n",
    "\n",
    "One example of such complex files is Technical Specification Guides or Product Manuals, which can span hundreds of pages and contain information in the form of images, tables, forms, and more. Books are also complex due to their length and the presence of images or tables.\n",
    "\n",
    "These files are typically in PDF format. To better handle these PDFs, we need a smarter parsing method that treats each document as a special source and processes them page by page. The objective is to obtain more accurate and faster answers from our system. Fortunately, there are usually not many of these types of documents in an organization, allowing us to make exceptions and treat them differently.\n",
    "\n",
    "If your use case is just PDFs, for example, you can just use [PyPDF library](https://pypi.org/project/pypdf/) or [Azure AI Document Intelligence SDK (former Form Recognizer)](https://learn.microsoft.com/en-us/azure/ai-services/document-intelligence/overview?view=doc-intel-3.0.0), vectorize using OpenAI API and push the content to a vector-based index. And this is problably the simplest and fastest way to go.  However if your use case entails connecting to a datalake, or Sharepoint libraries or any other document data source with thousands of documents with multiple file types and that can change dynamically, then you would want to use the Ingestion and Document Cracking and AI-Enrichment capabilities of Azure Search engine, Notebooks 1-3, and avoid a lot of painful custom code. \n"
   ]
  },
  {
   "cell_type": "code",
   "execution_count": 25,
   "id": "15f6044e-463f-4988-bc46-a3c3d641c15c",
   "metadata": {},
   "outputs": [],
   "source": [
    "import os\n",
    "import json\n",
    "import time\n",
    "import requests\n",
    "import random\n",
    "from collections import OrderedDict\n",
    "import urllib.request\n",
    "from tqdm import tqdm\n",
    "import langchain\n",
    "from langchain.text_splitter import RecursiveCharacterTextSplitter\n",
    "from langchain.embeddings.openai import OpenAIEmbeddings\n",
    "from langchain.vectorstores import Chroma, FAISS\n",
    "from langchain import OpenAI, VectorDBQA\n",
    "from langchain.chat_models import AzureChatOpenAI\n",
    "from langchain.chat_models import ChatOpenAI\n",
    "from langchain.chains import RetrievalQAWithSourcesChain\n",
    "from langchain.docstore.document import Document\n",
    "from langchain.chains.question_answering import load_qa_chain\n",
    "from langchain.chains.qa_with_sources import load_qa_with_sources_chain\n",
    "\n",
    "from common.utils import parse_pdf, parse_pdf_from_blob, read_pdf_files, text_to_base64\n",
    "from common.prompts import COMBINE_QUESTION_PROMPT, COMBINE_PROMPT, COMBINE_PROMPT_TEMPLATE\n",
    "from common.utils import (\n",
    "    get_search_results,\n",
    "    model_tokens_limit,\n",
    "    num_tokens_from_docs,\n",
    "    num_tokens_from_string\n",
    ")\n",
    "\n",
    "\n",
    "from IPython.display import Markdown, HTML, display  \n",
    "\n",
    "from dotenv import load_dotenv\n",
    "load_dotenv(\"credentials.env\")\n",
    "\n",
    "def printmd(string):\n",
    "    display(Markdown(string))\n",
    "    \n",
    "os.makedirs(\"data/books/\",exist_ok=True)\n",
    "    \n",
    "\n",
    "BLOB_CONTAINER_NAME = \"digge-ekonomi-dokument\"\n",
    "BLOB_CONTAINER_NAME = \"digge-100-dokument\"\n",
    "BASE_CONTAINER_URL = \"https://blobstoragejd5ypzfx2l6vi.blob.core.windows.net/digge-100-dokument/\"\n",
    "\n",
    "MODEL = \"gpt-35-turbo-16k\" # options: gpt-35-turbo, gpt-35-turbo-16k, gpt-4, gpt-4-32k"
   ]
  },
  {
   "cell_type": "code",
   "execution_count": 26,
   "id": "331692ba-b68e-4b99-9bae-5057da9a389d",
   "metadata": {},
   "outputs": [],
   "source": [
    "# Set the ENV variables that Langchain needs to connect to Azure OpenAI\n",
    "os.environ[\"OPENAI_API_BASE\"] = os.environ[\"AZURE_OPENAI_ENDPOINT\"]\n",
    "os.environ[\"OPENAI_API_KEY\"] = os.environ[\"AZURE_OPENAI_API_KEY\"]\n",
    "os.environ[\"OPENAI_API_VERSION\"] = os.environ[\"AZURE_OPENAI_API_VERSION\"]\n",
    "os.environ[\"OPENAI_API_TYPE\"] = \"azure\""
   ]
  },
  {
   "cell_type": "code",
   "execution_count": 27,
   "id": "594ff0d4-56e3-4bed-843d-28c7a092069b",
   "metadata": {},
   "outputs": [],
   "source": [
    "embedder = OpenAIEmbeddings(deployment=\"text-embedding-ada-002\", chunk_size=1) "
   ]
  },
  {
   "cell_type": "markdown",
   "id": "bb87c647-158c-4f85-b569-5b9462f06c83",
   "metadata": {},
   "source": [
    "## 1 - Manual Document Cracking with Push to Vector-based Index"
   ]
  },
  {
   "cell_type": "markdown",
   "id": "75551868-1546-421b-a14e-e42618d88e61",
   "metadata": {},
   "source": [
    "Within our demo storage account, we have a container named `books`, which holds 5 books of different lengths, languages, and complexities. Let's create a `cogsrch-index-books-vector` and load it with the pages of all these books.\n",
    "\n",
    "We begin by downloading these books to our local machine:"
   ]
  },
  {
   "cell_type": "code",
   "execution_count": 28,
   "id": "0999e24b-6a75-4fa1-9a5f-426cf0f0bdba",
   "metadata": {},
   "outputs": [],
   "source": [
    "# books = [\"Azure_Cognitive_Search_Documentation.pdf\", \n",
    "#          \"Boundaries_When_to_Say_Yes_How_to_Say_No_to_Take_Control_of_Your_Life.pdf\",\n",
    "#          \"Fundamentals_of_Physics_Textbook.pdf\",\n",
    "#          \"Made_To_Stick.pdf\",\n",
    "#          \"Pere_Riche_Pere_Pauvre.pdf\"]"
   ]
  },
  {
   "cell_type": "markdown",
   "id": "dd867b2f-b5a1-443c-aa0a-ce914a66b3c9",
   "metadata": {},
   "source": [
    "Let's download the files to the local `./data/` folder:"
   ]
  },
  {
   "cell_type": "code",
   "execution_count": 29,
   "id": "3554f0b7-fee8-4446-a155-5d22dc0f0888",
   "metadata": {},
   "outputs": [],
   "source": [
    "# for book in tqdm(books):\n",
    "#     book_url = BASE_CONTAINER_URL + book + os.environ['BLOB_SAS_TOKEN']\n",
    "#     urllib.request.urlretrieve(book_url, LOCAL_FOLDER+ book)"
   ]
  },
  {
   "cell_type": "markdown",
   "id": "788cc0db-9dae-45f2-8943-2b6fa32fcc75",
   "metadata": {},
   "source": [
    "### What to use: pyPDF or AI Documment Intelligence API (Form Recognizer)?\n",
    "\n",
    "In `utils.py` there is a **parse_pdf()** function. This utility function can parse local files using PyPDF library and can also parse local or from_url PDFs files using Azure AI Document Intelligence (Former Form Recognizer).\n",
    "\n",
    "If `form_recognizer=False`, the function will parse the PDF using the python pyPDF library, which 75% of the time does a good job.<br>\n",
    "\n",
    "Setting `form_recognizer=True`, is the best (and slower) parsing method using AI Documment Intelligence API (former known as Form Recognizer). You can specify the prebuilt model to use, the default is `model=\"prebuilt-document\"`. However, if you have a complex document with tables, charts and figures , you can try\n",
    "`model=\"prebuilt-layout\"`, and it will capture all of the nuances of each page (it takes longer of course).\n",
    "\n",
    "**Note: Many PDFs are scanned images. For example, any signed contract that was scanned and saved as PDF will NOT be parsed by pyPDF. Only AI Documment Intelligence API will work.**"
   ]
  },
  {
   "cell_type": "code",
   "execution_count": 30,
   "metadata": {},
   "outputs": [],
   "source": [
    "# book_pages_map = dict()\n",
    "# for book in books:\n",
    "#     print(\"Extracting Text from\",book,\"...\")\n",
    "    \n",
    "#     # Capture the start time\n",
    "#     start_time = time.time()\n",
    "    \n",
    "#     # Parse the PDF\n",
    "#     book_path = LOCAL_FOLDER+book\n",
    "#     book_map = parse_pdf(file=book_path, form_recognizer=False, verbose=True)\n",
    "#     book_pages_map[book]= book_map\n",
    "    \n",
    "#     # Capture the end time and Calculate the elapsed time\n",
    "#     end_time = time.time()\n",
    "#     elapsed_time = end_time - start_time\n",
    "\n",
    "#     print(f\"Parsing took: {elapsed_time:.6f} seconds\")\n",
    "#     print(f\"{book} contained {len(book_map)} pages\\n\")"
   ]
  },
  {
   "cell_type": "code",
   "execution_count": 31,
   "metadata": {},
   "outputs": [
    {
     "name": "stdout",
     "output_type": "stream",
     "text": [
      "Extracting Text from Administratörsmanual ledningssystemet.pdf ...\n",
      "Extracting text using Azure Document Intelligence\n",
      "Parsing took: 6.486604 seconds\n",
      "Administratörsmanual ledningssystemet.pdf contained 25 pages\n",
      "\n",
      "Extracting Text from Anmälan om brott till polisen(186680).pdf ...\n",
      "Extracting text using Azure Document Intelligence\n",
      "Parsing took: 5.249366 seconds\n",
      "Anmälan om brott till polisen(186680).pdf contained 1 pages\n",
      "\n",
      "Extracting Text from Anskaffning, utveckling och förändring av informationssystem.pdf ...\n",
      "Extracting text using Azure Document Intelligence\n",
      "Parsing took: 5.426353 seconds\n",
      "Anskaffning, utveckling och förändring av informationssystem.pdf contained 6 pages\n",
      "\n",
      "Extracting Text from Ansvars- och rollfördelning i ärendeberedningsprocessen(288355).pdf ...\n",
      "Extracting text using Azure Document Intelligence\n",
      "Parsing took: 5.212321 seconds\n",
      "Ansvars- och rollfördelning i ärendeberedningsprocessen(288355).pdf contained 1 pages\n",
      "\n",
      "Extracting Text from Användarmanual för att söka och läsa styrande information i ledningssystemet.pdf ...\n",
      "Extracting text using Azure Document Intelligence\n",
      "Parsing took: 12.731373 seconds\n",
      "Användarmanual för att söka och läsa styrande information i ledningssystemet.pdf contained 27 pages\n",
      "\n",
      "Extracting Text from Användarmanual för hantering av styrande dokument i ledningssystemet..pdf ...\n",
      "Extracting text using Azure Document Intelligence\n",
      "Parsing took: 18.993809 seconds\n",
      "Användarmanual för hantering av styrande dokument i ledningssystemet..pdf contained 93 pages\n",
      "\n",
      "Extracting Text from Arbets- och ansvarsfördelning mellan primärvård och psykiatri(305771).pdf ...\n",
      "Extracting text using Azure Document Intelligence\n",
      "Parsing took: 5.767521 seconds\n",
      "Arbets- och ansvarsfördelning mellan primärvård och psykiatri(305771).pdf contained 9 pages\n",
      "\n",
      "Extracting Text from Arbetsgrupp för vårdetik(170276).pdf ...\n",
      "Extracting text using Azure Document Intelligence\n",
      "Parsing took: 5.278358 seconds\n",
      "Arbetsgrupp för vårdetik(170276).pdf contained 2 pages\n",
      "\n",
      "Extracting Text from Arbetsmiljö.pdf ...\n",
      "Extracting text using Azure Document Intelligence\n",
      "Parsing took: 5.260124 seconds\n",
      "Arbetsmiljö.pdf contained 2 pages\n",
      "\n",
      "Extracting Text from Arkivering av allmänna handlingar(163750).pdf ...\n",
      "Extracting text using Azure Document Intelligence\n",
      "Parsing took: 5.432579 seconds\n",
      "Arkivering av allmänna handlingar(163750).pdf contained 5 pages\n",
      "\n",
      "Extracting Text from Arkivorganisation(163749).pdf ...\n",
      "Extracting text using Azure Document Intelligence\n",
      "Parsing took: 5.363739 seconds\n",
      "Arkivorganisation(163749).pdf contained 3 pages\n",
      "\n",
      "Extracting Text from Att lämna ut allmän handling(423630).pdf ...\n",
      "Extracting text using Azure Document Intelligence\n",
      "Parsing took: 5.309713 seconds\n",
      "Att lämna ut allmän handling(423630).pdf contained 2 pages\n",
      "\n",
      "Extracting Text from Avbrottsgrupp.pdf ...\n",
      "Extracting text using Azure Document Intelligence\n",
      "Parsing took: 5.284896 seconds\n",
      "Avbrottsgrupp.pdf contained 2 pages\n",
      "\n",
      "Extracting Text from Avbrottsrutin för ledningssystemet(378317).pdf ...\n",
      "Extracting text using Azure Document Intelligence\n",
      "Parsing took: 5.397560 seconds\n",
      "Avbrottsrutin för ledningssystemet(378317).pdf contained 3 pages\n",
      "\n",
      "Extracting Text from Avbrottsrutin för ledningssystemet.pdf ...\n",
      "Extracting text using Azure Document Intelligence\n",
      "Parsing took: 5.501095 seconds\n",
      "Avbrottsrutin för ledningssystemet.pdf contained 5 pages\n",
      "\n",
      "Extracting Text from Barnrättsombud.pdf ...\n",
      "Extracting text using Azure Document Intelligence\n",
      "Parsing took: 5.331157 seconds\n",
      "Barnrättsombud.pdf contained 3 pages\n",
      "\n",
      "Extracting Text from Behandling av mineraliseringsstörningar(193329).pdf ...\n",
      "Extracting text using Azure Document Intelligence\n",
      "Parsing took: 5.566368 seconds\n",
      "Behandling av mineraliseringsstörningar(193329).pdf contained 5 pages\n",
      "\n",
      "Extracting Text from Beställarfunktion för Hälsoval Västerbotten(264207).pdf ...\n",
      "Extracting text using Azure Document Intelligence\n",
      "Parsing took: 5.486057 seconds\n",
      "Beställarfunktion för Hälsoval Västerbotten(264207).pdf contained 4 pages\n",
      "\n",
      "Extracting Text from Beställning av förtäring vid särskild händelse.pdf ...\n",
      "Extracting text using Azure Document Intelligence\n",
      "Parsing took: 5.229787 seconds\n",
      "Beställning av förtäring vid särskild händelse.pdf contained 1 pages\n",
      "\n",
      "Extracting Text from Blankett för rapportering av personuppgiftsincident.pdf ...\n",
      "Extracting text using Azure Document Intelligence\n",
      "Parsing took: 5.273786 seconds\n",
      "Blankett för rapportering av personuppgiftsincident.pdf contained 4 pages\n",
      "\n",
      "Extracting Text from Brandskydd för verksamhetschefer(230659).pdf ...\n",
      "Extracting text using Azure Document Intelligence\n",
      "Parsing took: 5.345093 seconds\n",
      "Brandskydd för verksamhetschefer(230659).pdf contained 3 pages\n",
      "\n",
      "Extracting Text from Brandskyddsintroduktion för nyanställda(230664).pdf ...\n",
      "Extracting text using Azure Document Intelligence\n",
      "Parsing took: 5.479052 seconds\n",
      "Brandskyddsintroduktion för nyanställda(230664).pdf contained 2 pages\n",
      "\n",
      "Extracting Text from Brandskyddskontroll ledningsstaben.pdf ...\n",
      "Extracting text using Azure Document Intelligence\n",
      "Parsing took: 5.427477 seconds\n",
      "Brandskyddskontroll ledningsstaben.pdf contained 4 pages\n",
      "\n",
      "Extracting Text from Brukarinstruktion brandfarliga gaser och gasolanläggningar, laboratorier(245357).pdf ...\n",
      "Extracting text using Azure Document Intelligence\n",
      "Parsing took: 5.305992 seconds\n",
      "Brukarinstruktion brandfarliga gaser och gasolanläggningar, laboratorier(245357).pdf contained 3 pages\n",
      "\n",
      "Extracting Text from Dataskyddsombud(304761).pdf ...\n",
      "Extracting text using Azure Document Intelligence\n",
      "Parsing took: 5.301388 seconds\n",
      "Dataskyddsombud(304761).pdf contained 1 pages\n",
      "\n",
      "Extracting Text from Dental erosion(186841).pdf ...\n",
      "Extracting text using Azure Document Intelligence\n",
      "Parsing took: 5.785920 seconds\n",
      "Dental erosion(186841).pdf contained 10 pages\n",
      "\n",
      "Extracting Text from Dental traumaguide(233745).pdf ...\n",
      "Extracting text using Azure Document Intelligence\n",
      "Parsing took: 5.248338 seconds\n",
      "Dental traumaguide(233745).pdf contained 1 pages\n",
      "\n",
      "Extracting Text from Diarieföring av allmänna handlingar(165680).pdf ...\n",
      "Extracting text using Azure Document Intelligence\n",
      "Parsing took: 5.387398 seconds\n",
      "Diarieföring av allmänna handlingar(165680).pdf contained 4 pages\n",
      "\n",
      "Extracting Text from Digital informationshantering .pdf ...\n",
      "Extracting text using Azure Document Intelligence\n",
      "Parsing took: 5.551667 seconds\n",
      "Digital informationshantering .pdf contained 5 pages\n",
      "\n",
      "Extracting Text from Dokumenthanteringsplan för forskningsverksamhet_forskningsprojekt(194655).pdf ...\n",
      "Extracting text using Azure Document Intelligence\n",
      "Parsing took: 5.525499 seconds\n",
      "Dokumenthanteringsplan för forskningsverksamhet_forskningsprojekt(194655).pdf contained 6 pages\n",
      "\n",
      "Extracting Text from Dokumenthanteringsplan för forskningsverksamhet_forskningsprojekt(370552).pdf ...\n",
      "Extracting text using Azure Document Intelligence\n",
      "Parsing took: 5.658973 seconds\n",
      "Dokumenthanteringsplan för forskningsverksamhet_forskningsprojekt(370552).pdf contained 6 pages\n",
      "\n",
      "Extracting Text from Dokumenthanteringsplan för patientinformation och övrig medicinsk dokumentation(370559).pdf ...\n",
      "Extracting text using Azure Document Intelligence\n",
      "Parsing took: 7.338875 seconds\n",
      "Dokumenthanteringsplan för patientinformation och övrig medicinsk dokumentation(370559).pdf contained 30 pages\n",
      "\n",
      "Extracting Text from Dokumenthanteringsplan för sociala medier(194696).pdf ...\n",
      "Extracting text using Azure Document Intelligence\n",
      "Parsing took: 5.501718 seconds\n",
      "Dokumenthanteringsplan för sociala medier(194696).pdf contained 4 pages\n",
      "\n",
      "Extracting Text from Dokumenthanteringsplan för sociala medier(373862).pdf ...\n",
      "Extracting text using Azure Document Intelligence\n",
      "Parsing took: 5.449838 seconds\n",
      "Dokumenthanteringsplan för sociala medier(373862).pdf contained 4 pages\n",
      "\n",
      "Extracting Text from ECC- Early childhood caries(193331).pdf ...\n",
      "Extracting text using Azure Document Intelligence\n",
      "Parsing took: 5.599640 seconds\n",
      "ECC- Early childhood caries(193331).pdf contained 6 pages\n",
      "\n",
      "Extracting Text from Egenkontroll av det systematiska säkerhetsarbetet(184386).pdf ...\n",
      "Extracting text using Azure Document Intelligence\n",
      "Parsing took: 5.297932 seconds\n",
      "Egenkontroll av det systematiska säkerhetsarbetet(184386).pdf contained 2 pages\n",
      "\n",
      "Extracting Text from Egenkontroll av verksamhetens brandskydd(230684).pdf ...\n",
      "Extracting text using Azure Document Intelligence\n",
      "Parsing took: 9.773954 seconds\n",
      "Egenkontroll av verksamhetens brandskydd(230684).pdf contained 13 pages\n",
      "\n",
      "Extracting Text from Ekonomi och förvaltning.pdf ...\n",
      "Extracting text using Azure Document Intelligence\n",
      "Parsing took: 5.384368 seconds\n",
      "Ekonomi och förvaltning.pdf contained 2 pages\n",
      "\n",
      "Extracting Text from Enskildas rättigheter enligt GDPR.pdf ...\n",
      "Extracting text using Azure Document Intelligence\n",
      "Parsing took: 5.455580 seconds\n",
      "Enskildas rättigheter enligt GDPR.pdf contained 5 pages\n",
      "\n",
      "Extracting Text from Exempel på en handlingsplan vid hot och våld i en verksamhet(179647).pdf ...\n",
      "Extracting text using Azure Document Intelligence\n",
      "Parsing took: 5.526027 seconds\n",
      "Exempel på en handlingsplan vid hot och våld i en verksamhet(179647).pdf contained 4 pages\n",
      "\n",
      "Extracting Text from Fluorguiden(235976).pdf ...\n",
      "Extracting text using Azure Document Intelligence\n",
      "Parsing took: 5.241709 seconds\n",
      "Fluorguiden(235976).pdf contained 1 pages\n",
      "\n",
      "Extracting Text from Funktionshinderspolitisk strategi för Västerbottens läns landsting 2017-2020(359602).pdf ...\n",
      "Extracting text using Azure Document Intelligence\n",
      "Parsing took: 5.675836 seconds\n",
      "Funktionshinderspolitisk strategi för Västerbottens läns landsting 2017-2020(359602).pdf contained 7 pages\n",
      "\n",
      "Extracting Text from Förebyggande tandvård för barn, ungdom och unga vuxna(186742).pdf ...\n",
      "Extracting text using Azure Document Intelligence\n",
      "Parsing took: 5.874984 seconds\n",
      "Förebyggande tandvård för barn, ungdom och unga vuxna(186742).pdf contained 10 pages\n",
      "\n",
      "Extracting Text from Granska och fastställa styrande dokument.pdf ...\n",
      "Extracting text using Azure Document Intelligence\n",
      "Parsing took: 5.331037 seconds\n",
      "Granska och fastställa styrande dokument.pdf contained 3 pages\n",
      "\n",
      "Extracting Text from Grunder för beslutsfattande.pdf ...\n",
      "Extracting text using Azure Document Intelligence\n",
      "Parsing took: 5.433933 seconds\n",
      "Grunder för beslutsfattande.pdf contained 5 pages\n",
      "\n",
      "Extracting Text from Gränsdragningslista_brandskyddet mellan fastighetsägare och verksamhetsägare(232538).pdf ...\n",
      "Extracting text using Azure Document Intelligence\n",
      "Parsing took: 5.538222 seconds\n",
      "Gränsdragningslista_brandskyddet mellan fastighetsägare och verksamhetsägare(232538).pdf contained 3 pages\n",
      "\n",
      "Extracting Text from Handbok för systematiskt brandskyddsarbete inom Region Västerbotten(265146).pdf ...\n",
      "Extracting text using Azure Document Intelligence\n",
      "Parsing took: 6.051738 seconds\n",
      "Handbok för systematiskt brandskyddsarbete inom Region Västerbotten(265146).pdf contained 12 pages\n",
      "\n",
      "Extracting Text from Handlingsplan Hot & Våld .pdf ...\n",
      "Extracting text using Azure Document Intelligence\n",
      "Parsing took: 5.325671 seconds\n",
      "Handlingsplan Hot & Våld .pdf contained 3 pages\n",
      "\n",
      "Extracting Text from Handlingsplan vid brand(230683).pdf ...\n",
      "Extracting text using Azure Document Intelligence\n",
      "Parsing took: 5.393721 seconds\n",
      "Handlingsplan vid brand(230683).pdf contained 3 pages\n",
      "\n",
      "Extracting Text from Handläggning av frivilligorganisationers ansökan om folkhälsobidrag(275965).pdf ...\n",
      "Extracting text using Azure Document Intelligence\n",
      "Parsing took: 5.448736 seconds\n",
      "Handläggning av frivilligorganisationers ansökan om folkhälsobidrag(275965).pdf contained 3 pages\n",
      "\n",
      "Extracting Text from Handläggning av visselblåsarärenden.pdf ...\n",
      "Extracting text using Azure Document Intelligence\n",
      "Parsing took: 5.554184 seconds\n",
      "Handläggning av visselblåsarärenden.pdf contained 3 pages\n",
      "\n",
      "Extracting Text from Hantering av nyckelbrytare för brandfarliga gaser(245483).pdf ...\n",
      "Extracting text using Azure Document Intelligence\n",
      "Parsing took: 5.311683 seconds\n",
      "Hantering av nyckelbrytare för brandfarliga gaser(245483).pdf contained 3 pages\n",
      "\n",
      "Extracting Text from Hantering av redovisande dokument.pdf ...\n",
      "Extracting text using Azure Document Intelligence\n",
      "Parsing took: 5.335843 seconds\n",
      "Hantering av redovisande dokument.pdf contained 4 pages\n",
      "\n",
      "Extracting Text from Hanteringsrutiner för verksamhetsansvariga med tillgång till brandfarliga gaser(245449).pdf ...\n",
      "Extracting text using Azure Document Intelligence\n",
      "Parsing took: 5.396310 seconds\n",
      "Hanteringsrutiner för verksamhetsansvariga med tillgång till brandfarliga gaser(245449).pdf contained 3 pages\n",
      "\n",
      "Extracting Text from Hälso- och sjukvårdsnämndens delegationsordning(346082).pdf ...\n",
      "Extracting text using Azure Document Intelligence\n",
      "Parsing took: 6.305819 seconds\n",
      "Hälso- och sjukvårdsnämndens delegationsordning(346082).pdf contained 14 pages\n",
      "\n",
      "Extracting Text from Hälso- och sjukvårdsnämndens reglemente(346112).pdf ...\n",
      "Extracting text using Azure Document Intelligence\n",
      "Parsing took: 5.833054 seconds\n",
      "Hälso- och sjukvårdsnämndens reglemente(346112).pdf contained 11 pages\n",
      "\n",
      "Extracting Text from Identifiering, bemötande, stöd och behandling till våldsutsatta vuxna.pdf ...\n",
      "Extracting text using Azure Document Intelligence\n",
      "Parsing took: 6.273389 seconds\n",
      "Identifiering, bemötande, stöd och behandling till våldsutsatta vuxna.pdf contained 19 pages\n",
      "\n",
      "Extracting Text from Incidentrapportering - Störningar i kontinuiteten i hälso- och sjukvårdstjänsten (NIS).pdf ...\n",
      "Extracting text using Azure Document Intelligence\n",
      "Parsing took: 5.797208 seconds\n",
      "Incidentrapportering - Störningar i kontinuiteten i hälso- och sjukvårdstjänsten (NIS).pdf contained 8 pages\n",
      "\n",
      "Extracting Text from Informationssäkerhet -  förvaltning och drift.pdf ...\n",
      "Extracting text using Azure Document Intelligence\n",
      "Parsing took: 5.780782 seconds\n",
      "Informationssäkerhet -  förvaltning och drift.pdf contained 11 pages\n",
      "\n",
      "Extracting Text from Informationssäkerhet - användare.pdf ...\n",
      "Extracting text using Azure Document Intelligence\n",
      "Parsing took: 5.560787 seconds\n",
      "Informationssäkerhet - användare.pdf contained 6 pages\n",
      "\n",
      "Extracting Text from Informationssäkerhet.pdf ...\n",
      "Extracting text using Azure Document Intelligence\n",
      "Parsing took: 5.266277 seconds\n",
      "Informationssäkerhet.pdf contained 2 pages\n",
      "\n",
      "Extracting Text from Informationssäkerhetsklassning i KLASSA.pdf ...\n",
      "Extracting text using Azure Document Intelligence\n",
      "Parsing took: 6.122603 seconds\n",
      "Informationssäkerhetsklassning i KLASSA.pdf contained 14 pages\n",
      "\n",
      "Extracting Text from Informationsunderlag - Hantering av brandfarlig vara, gas och vätska(247283).pdf ...\n",
      "Extracting text using Azure Document Intelligence\n",
      "Parsing took: 5.278075 seconds\n",
      "Informationsunderlag - Hantering av brandfarlig vara, gas och vätska(247283).pdf contained 2 pages\n",
      "\n",
      "Extracting Text from Inrättande av ledningsgrupp, styrgrupp, kommitté och råd(269474).pdf ...\n",
      "Extracting text using Azure Document Intelligence\n",
      "Parsing took: 5.333235 seconds\n",
      "Inrättande av ledningsgrupp, styrgrupp, kommitté och råd(269474).pdf contained 3 pages\n",
      "\n",
      "Extracting Text from Instruktion för registerförteckning.pdf ...\n",
      "Extracting text using Azure Document Intelligence\n",
      "Parsing took: 5.366442 seconds\n",
      "Instruktion för registerförteckning.pdf contained 2 pages\n",
      "\n",
      "Extracting Text from Intern rutin för hantering av explosiv eter(188636).pdf ...\n",
      "Extracting text using Azure Document Intelligence\n",
      "Parsing took: 5.318097 seconds\n",
      "Intern rutin för hantering av explosiv eter(188636).pdf contained 3 pages\n",
      "\n",
      "Extracting Text from Jämställdhet och jämlikhet.pdf ...\n",
      "Extracting text using Azure Document Intelligence\n",
      "Parsing took: 5.277544 seconds\n",
      "Jämställdhet och jämlikhet.pdf contained 2 pages\n",
      "\n",
      "Extracting Text from Kamerabevakning i regionen.pdf ...\n",
      "Extracting text using Azure Document Intelligence\n",
      "Parsing took: 5.433485 seconds\n",
      "Kamerabevakning i regionen.pdf contained 5 pages\n",
      "\n",
      "Extracting Text from Kartlägg riskerna för hot och våld i arbetsmiljön(185773).pdf ...\n",
      "Extracting text using Azure Document Intelligence\n",
      "Parsing took: 5.221322 seconds\n",
      "Kartlägg riskerna för hot och våld i arbetsmiljön(185773).pdf contained 1 pages\n",
      "\n",
      "Extracting Text from Kommunikation.pdf ...\n",
      "Extracting text using Azure Document Intelligence\n",
      "Parsing took: 5.288204 seconds\n",
      "Kommunikation.pdf contained 2 pages\n",
      "\n",
      "Extracting Text from Konsekvensbedömning avseende dataskydd.pdf ...\n",
      "Extracting text using Azure Document Intelligence\n",
      "Parsing took: 5.386541 seconds\n",
      "Konsekvensbedömning avseende dataskydd.pdf contained 4 pages\n",
      "\n",
      "Extracting Text from Kontrollsystem för efterlevnad av Dataskyddsförordningen(313124).pdf ...\n",
      "Extracting text using Azure Document Intelligence\n",
      "Parsing took: 5.374825 seconds\n",
      "Kontrollsystem för efterlevnad av Dataskyddsförordningen(313124).pdf contained 2 pages\n",
      "\n",
      "Extracting Text from Kostanamnes Barn(280181).pdf ...\n",
      "Extracting text using Azure Document Intelligence\n",
      "Parsing took: 5.308239 seconds\n",
      "Kostanamnes Barn(280181).pdf contained 2 pages\n",
      "\n",
      "Extracting Text from Kostanamnes Vuxna(280184).pdf ...\n",
      "Extracting text using Azure Document Intelligence\n",
      "Parsing took: 5.307629 seconds\n",
      "Kostanamnes Vuxna(280184).pdf contained 2 pages\n",
      "\n",
      "Extracting Text from Kvalitet.pdf ...\n",
      "Extracting text using Azure Document Intelligence\n",
      "Parsing took: 5.277519 seconds\n",
      "Kvalitet.pdf contained 2 pages\n",
      "\n",
      "Extracting Text from Landstingsplan 2016-2019(266621).pdf ...\n",
      "Extracting text using Azure Document Intelligence\n",
      "Parsing took: 5.225697 seconds\n",
      "Landstingsplan 2016-2019(266621).pdf contained 1 pages\n",
      "\n",
      "Extracting Text from Ledning- och styrmodell för informationssäkerhet(269051).pdf ...\n",
      "Extracting text using Azure Document Intelligence\n",
      "Parsing took: 5.410210 seconds\n",
      "Ledning- och styrmodell för informationssäkerhet(269051).pdf contained 5 pages\n",
      "\n",
      "Extracting Text from Länsrutiner för Hälsoval Västerbotten gällande röntgenremisser utfärdade av fysioterapeut(383967).pdf ...\n",
      "Extracting text using Azure Document Intelligence\n",
      "Parsing took: 5.356250 seconds\n",
      "Länsrutiner för Hälsoval Västerbotten gällande röntgenremisser utfärdade av fysioterapeut(383967).pdf contained 3 pages\n",
      "\n",
      "Extracting Text from Mall för larm och utökad beredskapsnivå.pdf ...\n",
      "Extracting text using Azure Document Intelligence\n",
      "Parsing took: 5.425825 seconds\n",
      "Mall för larm och utökad beredskapsnivå.pdf contained 6 pages\n",
      "\n",
      "Extracting Text from Mall för reservrutiner .pdf ...\n",
      "Extracting text using Azure Document Intelligence\n",
      "Parsing took: 5.686393 seconds\n",
      "Mall för reservrutiner .pdf contained 10 pages\n",
      "\n",
      "Extracting Text from Mall – för utredning av personuppgiftsincidenter.pdf ...\n",
      "Extracting text using Azure Document Intelligence\n",
      "Parsing took: 5.468481 seconds\n",
      "Mall – för utredning av personuppgiftsincidenter.pdf contained 6 pages\n",
      "\n",
      "Extracting Text from Mekaniska lås- och passagesystem, överfalls_bråk- och inbrottslarm sjukhusbyggnader och externa lokaler.pdf ...\n",
      "Extracting text using Azure Document Intelligence\n",
      "Parsing took: 5.402657 seconds\n",
      "Mekaniska lås- och passagesystem, överfalls_bråk- och inbrottslarm sjukhusbyggnader och externa lokaler.pdf contained 4 pages\n",
      "\n",
      "Extracting Text from Mekaniska lås- och passagesystem, överfalls_bråk- och inbrottslarm,  Folktandvården(285825).pdf ...\n",
      "Extracting text using Azure Document Intelligence\n",
      "Parsing took: 5.341450 seconds\n",
      "Mekaniska lås- och passagesystem, överfalls_bråk- och inbrottslarm,  Folktandvården(285825).pdf contained 2 pages\n",
      "\n",
      "Extracting Text from Mekaniska lås- och passagesystem, överfalls_bråk- och inbrottslarm, Hälsocentraler(285830).pdf ...\n",
      "Extracting text using Azure Document Intelligence\n",
      "Parsing took: 5.461585 seconds\n",
      "Mekaniska lås- och passagesystem, överfalls_bråk- och inbrottslarm, Hälsocentraler(285830).pdf contained 3 pages\n",
      "\n",
      "Extracting Text from Mekaniska låssystem,  sjukhusbyggnader(285522).pdf ...\n",
      "Extracting text using Azure Document Intelligence\n",
      "Parsing took: 5.359080 seconds\n",
      "Mekaniska låssystem,  sjukhusbyggnader(285522).pdf contained 2 pages\n",
      "\n",
      "Extracting Text from Miljö.pdf ...\n",
      "Extracting text using Azure Document Intelligence\n",
      "Parsing took: 5.380097 seconds\n",
      "Miljö.pdf contained 2 pages\n",
      "\n",
      "Extracting Text from Minneslista vid hot(180254).pdf ...\n",
      "Extracting text using Azure Document Intelligence\n",
      "Parsing took: 5.387582 seconds\n",
      "Minneslista vid hot(180254).pdf contained 2 pages\n",
      "\n",
      "Extracting Text from Misstänkta försändelser(185880).pdf ...\n",
      "Extracting text using Azure Document Intelligence\n",
      "Parsing took: 5.325115 seconds\n",
      "Misstänkta försändelser(185880).pdf contained 2 pages\n",
      "\n",
      "Extracting Text from Passagesystem, överfalls_bråk- och inbrottslarm, sjukhusbyggnader(285568).pdf ...\n",
      "Extracting text using Azure Document Intelligence\n",
      "Parsing took: 5.321921 seconds\n",
      "Passagesystem, överfalls_bråk- och inbrottslarm, sjukhusbyggnader(285568).pdf contained 2 pages\n",
      "\n",
      "Extracting Text from Patientnämndens reglemente(346114).pdf ...\n",
      "Extracting text using Azure Document Intelligence\n",
      "Parsing took: 5.755277 seconds\n",
      "Patientnämndens reglemente(346114).pdf contained 7 pages\n",
      "\n",
      "Extracting Text from Plan för kris- och katastrofmedicinsk beredskap(418633).pdf ...\n",
      "Extracting text using Azure Document Intelligence\n",
      "Parsing took: 13.646106 seconds\n",
      "Plan för kris- och katastrofmedicinsk beredskap(418633).pdf contained 53 pages\n",
      "\n",
      "Extracting Text from Plan för krisstöd vid särskild händelse(362232).pdf ...\n",
      "Extracting text using Azure Document Intelligence\n",
      "Parsing took: 5.751938 seconds\n",
      "Plan för krisstöd vid särskild händelse(362232).pdf contained 10 pages\n",
      "\n",
      "Extracting Text from Principer för fissurförsegling(301569).pdf ...\n",
      "Extracting text using Azure Document Intelligence\n",
      "Parsing took: 10.483777 seconds\n",
      "Principer för fissurförsegling(301569).pdf contained 3 pages\n",
      "\n",
      "Extracting Text from Principer för gränsdragning mellan förvaltningarnas uppgifter avseende ledningssystem(357719).pdf ...\n",
      "Extracting text using Azure Document Intelligence\n",
      "Parsing took: 5.348577 seconds\n",
      "Principer för gränsdragning mellan förvaltningarnas uppgifter avseende ledningssystem(357719).pdf contained 3 pages\n",
      "\n",
      "Extracting Text from Process för ordnat övertag från annat verksamhetsområde.pdf ...\n",
      "Extracting text using Azure Document Intelligence\n",
      "Parsing took: 5.423912 seconds\n",
      "Process för ordnat övertag från annat verksamhetsområde.pdf contained 6 pages\n",
      "\n",
      "Extracting Text from Rapportering av säkerhetsincidenter.pdf ...\n",
      "Extracting text using Azure Document Intelligence\n",
      "Parsing took: 5.476202 seconds\n",
      "Rapportering av säkerhetsincidenter.pdf contained 3 pages\n",
      "\n",
      "Extracting Text from Rapportering och utredning av personuppgiftsincidenter .pdf ...\n",
      "Extracting text using Azure Document Intelligence\n",
      "Parsing took: 10.651761 seconds\n",
      "Rapportering och utredning av personuppgiftsincidenter .pdf contained 6 pages\n",
      "\n",
      "Extracting Text from Regional evakueringsplan.pdf ...\n",
      "Extracting text using Azure Document Intelligence\n",
      "Parsing took: 10.814212 seconds\n",
      "Regional evakueringsplan.pdf contained 10 pages\n",
      "\n",
      "Extracting Text from Regionala utvecklingsnämndens reglemente(346113).pdf ...\n",
      "Extracting text using Azure Document Intelligence\n",
      "Parsing took: 5.719568 seconds\n",
      "Regionala utvecklingsnämndens reglemente(346113).pdf contained 10 pages\n",
      "\n"
     ]
    }
   ],
   "source": [
    "from azure.storage.blob import BlobServiceClient\n",
    "\n",
    "# Create a blob service client\n",
    "blob_service_client = BlobServiceClient.from_connection_string(os.environ[\"BLOB_CONNECTION_STRING\"])\n",
    "\n",
    "# Get a reference to the container\n",
    "container_client = blob_service_client.get_container_client(BLOB_CONTAINER_NAME)\n",
    "\n",
    "# List all blobs in the container\n",
    "blob_list = container_client.list_blobs()\n",
    "\n",
    "model=\"prebuilt-layout\"\n",
    "book_pages_map = dict()\n",
    "\n",
    "# Print all blob names\n",
    "for document in blob_list:\n",
    "    if document.name.endswith(\".pdf\"):\n",
    "        print(\"Extracting Text from\",document.name,\"...\")\n",
    "\n",
    "        # Capture the start time\n",
    "        start_time = time.time()\n",
    "\n",
    "        # Get a reference to the blob\n",
    "        blob_client = container_client.get_blob_client(document.name)\n",
    "        # print(document.name)\n",
    "        \n",
    "        # Download the blob to a stream\n",
    "        stream = blob_client.download_blob().readall()\n",
    "\n",
    "        # with open(stream, \"rb\") as filename:\n",
    "        book_map = parse_pdf_from_blob(file=stream, form_recognizer=True, verbose=True)\n",
    "        book_pages_map[document.name]= book_map\n",
    "\n",
    "        # Capture the end time and Calculate the elapsed time\n",
    "        end_time = time.time()\n",
    "        elapsed_time = end_time - start_time\n",
    "\n",
    "        print(f\"Parsing took: {elapsed_time:.6f} seconds\")\n",
    "        print(f\"{document.name} contained {len(book_map)} pages\\n\")"
   ]
  },
  {
   "cell_type": "markdown",
   "id": "5de0a722-ae0c-4b57-802a-518f5d4d93fd",
   "metadata": {},
   "source": [
    "Now let's check a random page of each book to make sure the parsing was done correctly:"
   ]
  },
  {
   "cell_type": "code",
   "execution_count": 1,
   "id": "f2a5d62f-b664-4662-a6c9-a1eb2a3c5e11",
   "metadata": {},
   "outputs": [],
   "source": [
    "# for bookname,bookmap in book_pages_map.items():\n",
    "#     # print(bookmap)\n",
    "#     print(bookname,\"\\n\",\"chunk text:\",bookmap[random.randint(0, 2)][2][:50],\"...\\n\")"
   ]
  },
  {
   "cell_type": "markdown",
   "id": "8bcdc1ee-71fc-49d2-8e7c-0964bc3a4370",
   "metadata": {},
   "source": [
    "As we can see above, all books were parsed except `Pere_Riche_Pere_Pauvre.pdf` (this book is \"Rich Dad, Poor Dad\" written in French), why? Well, as we mentioned above, this book was scanned, so each page is an image and with a very unique font. We need a good PDF parser with good OCR capabilities in order to extract the content of this PDF. \n",
    "Let's try to parse this book again, but this time using Azure Document Intelligence API (former Form Recognizer)"
   ]
  },
  {
   "cell_type": "code",
   "execution_count": 18,
   "id": "801c6bc2-467c-4418-aa7e-ef89a1e20e1c",
   "metadata": {},
   "outputs": [
    {
     "name": "stdout",
     "output_type": "stream",
     "text": [
      "Extracting text using Azure Document Intelligence\n",
      "CPU times: user 11.5 s, sys: 128 ms, total: 11.7 s\n",
      "Wall time: 34.5 s\n"
     ]
    }
   ],
   "source": [
    "# %%time\n",
    "# book = \"Pere_Riche_Pere_Pauvre.pdf\"\n",
    "# book_path = LOCAL_FOLDER+book\n",
    "# book_map = parse_pdf(file=book_path, form_recognizer=True, model=\"prebuilt-document\",from_url=False, verbose=True)\n",
    "# book_pages_map[book]= book_map"
   ]
  },
  {
   "cell_type": "code",
   "execution_count": 9,
   "id": "52f8b4b9-c167-49cf-b88b-c6be705200b5",
   "metadata": {},
   "outputs": [],
   "source": [
    "#Note: If the above command throws an error - Create another form recognizer resource in the azure portal in the same resource group, don't delete it. And try again.\n",
    "# This seems to be a transient error."
   ]
  },
  {
   "cell_type": "code",
   "execution_count": 19,
   "id": "97f9c5bb-c44b-4a4d-9780-591f9f8d128a",
   "metadata": {},
   "outputs": [
    {
     "name": "stdout",
     "output_type": "stream",
     "text": [
      "Pere_Riche_Pere_Pauvre.pdf \n",
      " chunk text: de s'efforcer d'être de bons employés tout en faisant leur possible afin de poss ...\n",
      "\n"
     ]
    }
   ],
   "source": [
    "# print(book,\"\\n\",\"chunk text:\",book_map[random.randint(10, 50)][2][:80],\"...\\n\")"
   ]
  },
  {
   "cell_type": "markdown",
   "id": "9c279dfb-4fed-41b8-89e1-0ca2cefbcdc9",
   "metadata": {},
   "source": [
    "As demonstrated above, Azure Document Intelligence proves to be superior to pyPDF. **For production scenarios, we strongly recommend using Azure Document Intelligence consistently**. When doing so, it's important to make a wise choice between the available models, such as \"prebuilt-document,\" \"prebuilt-layout,\" or others. You can find more information on model selection [HERE](https://learn.microsoft.com/en-us/azure/ai-services/document-intelligence/choose-model-feature?view=doc-intel-3.0.0).\n"
   ]
  },
  {
   "cell_type": "markdown",
   "id": "7f5f9b7d-99e6-426d-a47e-343c7e8b492e",
   "metadata": {},
   "source": [
    "## Create Vector-based index\n",
    "\n",
    "\n",
    "Now that we have the content of the book's chunks (each page of each book) in the dictionary `book_pages_map`, let's create the Vector-based index in our Azure Search Engine where this content is going to land"
   ]
  },
  {
   "cell_type": "code",
   "execution_count": 8,
   "id": "7d46e7c5-49c4-40f3-bb2d-79a9afeab4b1",
   "metadata": {},
   "outputs": [],
   "source": [
    "# index_name = \"digge-ekonomi-index-files-vector-form-rec\"\n",
    "index_name = \"digge-100-index-files-vector-form-rec\""
   ]
  },
  {
   "cell_type": "code",
   "execution_count": 26,
   "id": "1b07e84b-d306-4bc9-9124-e64f252dd7b2",
   "metadata": {},
   "outputs": [],
   "source": [
    "### Create Azure Search Vector-based Index\n",
    "# Setup the Payloads header\n",
    "headers = {'Content-Type': 'application/json','api-key': os.environ['AZURE_SEARCH_KEY']}\n",
    "params = {'api-version': os.environ['AZURE_SEARCH_API_VERSION']}"
   ]
  },
  {
   "cell_type": "code",
   "execution_count": 27,
   "id": "2df4db6b-969b-4b91-963f-9334e17a4e3c",
   "metadata": {},
   "outputs": [
    {
     "name": "stdout",
     "output_type": "stream",
     "text": [
      "204\n",
      "True\n"
     ]
    }
   ],
   "source": [
    "index_payload = {\n",
    "    \"name\": index_name,\n",
    "    \"fields\": [\n",
    "        {\"name\": \"id\", \"type\": \"Edm.String\", \"key\": \"true\", \"filterable\": \"true\" },\n",
    "        {\"name\": \"title\",\"type\": \"Edm.String\",\"searchable\": \"true\",\"retrievable\": \"true\"},\n",
    "        {\"name\": \"chunk\",\"type\": \"Edm.String\",\"searchable\": \"true\",\"retrievable\": \"true\"},\n",
    "        {\"name\": \"chunkVector\",\"type\": \"Collection(Edm.Single)\",\"searchable\": \"true\",\"retrievable\": \"true\",\"dimensions\": 1536,\"vectorSearchConfiguration\": \"vectorConfig\"},\n",
    "        {\"name\": \"name\", \"type\": \"Edm.String\", \"searchable\": \"true\", \"retrievable\": \"true\", \"sortable\": \"false\", \"filterable\": \"false\", \"facetable\": \"false\"},\n",
    "        {\"name\": \"location\", \"type\": \"Edm.String\", \"searchable\": \"false\", \"retrievable\": \"true\", \"sortable\": \"false\", \"filterable\": \"false\", \"facetable\": \"false\"},\n",
    "        {\"name\": \"page_num\",\"type\": \"Edm.Int32\",\"searchable\": \"false\",\"retrievable\": \"true\"},\n",
    "        \n",
    "    ],\n",
    "    \"vectorSearch\": {\n",
    "        \"algorithmConfigurations\": [\n",
    "            {\n",
    "                \"name\": \"vectorConfig\",\n",
    "                \"kind\": \"hnsw\"\n",
    "            }\n",
    "        ]\n",
    "    },\n",
    "    \"semantic\": {\n",
    "        \"configurations\": [\n",
    "            {\n",
    "                \"name\": \"my-semantic-config\",\n",
    "                \"prioritizedFields\": {\n",
    "                    \"titleField\": {\n",
    "                        \"fieldName\": \"title\"\n",
    "                    },\n",
    "                    \"prioritizedContentFields\": [\n",
    "                        {\n",
    "                            \"fieldName\": \"chunk\"\n",
    "                        }\n",
    "                    ],\n",
    "                    \"prioritizedKeywordsFields\": []\n",
    "                }\n",
    "            }\n",
    "        ]\n",
    "    }\n",
    "}\n",
    "\n",
    "r = requests.put(os.environ['AZURE_SEARCH_ENDPOINT'] + \"/indexes/\" + index_name,\n",
    "                 data=json.dumps(index_payload), headers=headers, params=params)\n",
    "print(r.status_code)\n",
    "print(r.ok)"
   ]
  },
  {
   "cell_type": "code",
   "execution_count": 28,
   "id": "36691ff0-c4c8-49d0-bfa8-3e076ece0ce5",
   "metadata": {},
   "outputs": [],
   "source": [
    "# Uncomment to debug errors\n",
    "# r.text"
   ]
  },
  {
   "cell_type": "markdown",
   "id": "3bc7dda9-4725-410e-9465-54f0298fc758",
   "metadata": {},
   "source": [
    "## Upload the Document chunks and its vectors to the Vector-Based Index"
   ]
  },
  {
   "cell_type": "markdown",
   "id": "d73e7600-7902-48d4-b199-9d9dc0a17aa0",
   "metadata": {},
   "source": [
    "The following code will iterate over each chunk of each book and use the Azure Search Rest API upload method to insert each document with its corresponding vector (using OpenAI embedding model) to the index."
   ]
  },
  {
   "cell_type": "code",
   "execution_count": 29,
   "id": "f5c8aa55-1b60-4057-93db-0d4a89993a57",
   "metadata": {},
   "outputs": [
    {
     "name": "stdout",
     "output_type": "stream",
     "text": [
      "Uploading chunks from Administratörsmanual ledningssystemet.pdf\n"
     ]
    },
    {
     "name": "stderr",
     "output_type": "stream",
     "text": [
      "100%|██████████| 25/25 [00:05<00:00,  4.57it/s]\n"
     ]
    },
    {
     "name": "stdout",
     "output_type": "stream",
     "text": [
      "Uploading chunks from Anmälan om brott till polisen(186680).pdf\n"
     ]
    },
    {
     "name": "stderr",
     "output_type": "stream",
     "text": [
      "100%|██████████| 1/1 [00:00<00:00,  7.22it/s]\n"
     ]
    },
    {
     "name": "stdout",
     "output_type": "stream",
     "text": [
      "Uploading chunks from Anskaffning, utveckling och förändring av informationssystem.pdf\n"
     ]
    },
    {
     "name": "stderr",
     "output_type": "stream",
     "text": [
      "100%|██████████| 6/6 [00:00<00:00,  7.05it/s]\n"
     ]
    },
    {
     "name": "stdout",
     "output_type": "stream",
     "text": [
      "Uploading chunks from Ansvars- och rollfördelning i ärendeberedningsprocessen(288355).pdf\n"
     ]
    },
    {
     "name": "stderr",
     "output_type": "stream",
     "text": [
      "100%|██████████| 1/1 [00:00<00:00,  7.67it/s]\n"
     ]
    },
    {
     "name": "stdout",
     "output_type": "stream",
     "text": [
      "Uploading chunks from Användarmanual för att söka och läsa styrande information i ledningssystemet.pdf\n"
     ]
    },
    {
     "name": "stderr",
     "output_type": "stream",
     "text": [
      "100%|██████████| 27/27 [00:04<00:00,  6.45it/s]\n"
     ]
    },
    {
     "name": "stdout",
     "output_type": "stream",
     "text": [
      "Uploading chunks from Användarmanual för hantering av styrande dokument i ledningssystemet..pdf\n"
     ]
    },
    {
     "name": "stderr",
     "output_type": "stream",
     "text": [
      "100%|██████████| 93/93 [00:14<00:00,  6.49it/s]\n"
     ]
    },
    {
     "name": "stdout",
     "output_type": "stream",
     "text": [
      "Uploading chunks from Arbets- och ansvarsfördelning mellan primärvård och psykiatri(305771).pdf\n"
     ]
    },
    {
     "name": "stderr",
     "output_type": "stream",
     "text": [
      "100%|██████████| 9/9 [00:01<00:00,  7.01it/s]\n"
     ]
    },
    {
     "name": "stdout",
     "output_type": "stream",
     "text": [
      "Uploading chunks from Arbetsgrupp för vårdetik(170276).pdf\n"
     ]
    },
    {
     "name": "stderr",
     "output_type": "stream",
     "text": [
      "100%|██████████| 2/2 [00:00<00:00,  7.52it/s]\n"
     ]
    },
    {
     "name": "stdout",
     "output_type": "stream",
     "text": [
      "Uploading chunks from Arbetsmiljö.pdf\n"
     ]
    },
    {
     "name": "stderr",
     "output_type": "stream",
     "text": [
      "100%|██████████| 2/2 [00:00<00:00,  6.56it/s]\n"
     ]
    },
    {
     "name": "stdout",
     "output_type": "stream",
     "text": [
      "Uploading chunks from Arkivering av allmänna handlingar(163750).pdf\n"
     ]
    },
    {
     "name": "stderr",
     "output_type": "stream",
     "text": [
      "100%|██████████| 5/5 [00:00<00:00,  6.94it/s]\n"
     ]
    },
    {
     "name": "stdout",
     "output_type": "stream",
     "text": [
      "Uploading chunks from Arkivorganisation(163749).pdf\n"
     ]
    },
    {
     "name": "stderr",
     "output_type": "stream",
     "text": [
      "100%|██████████| 3/3 [00:00<00:00,  6.64it/s]\n"
     ]
    },
    {
     "name": "stdout",
     "output_type": "stream",
     "text": [
      "Uploading chunks from Att lämna ut allmän handling(423630).pdf\n"
     ]
    },
    {
     "name": "stderr",
     "output_type": "stream",
     "text": [
      "100%|██████████| 2/2 [00:00<00:00,  7.25it/s]\n"
     ]
    },
    {
     "name": "stdout",
     "output_type": "stream",
     "text": [
      "Uploading chunks from Avbrottsgrupp.pdf\n"
     ]
    },
    {
     "name": "stderr",
     "output_type": "stream",
     "text": [
      "100%|██████████| 2/2 [00:00<00:00,  7.33it/s]\n"
     ]
    },
    {
     "name": "stdout",
     "output_type": "stream",
     "text": [
      "Uploading chunks from Avbrottsrutin för ledningssystemet(378317).pdf\n"
     ]
    },
    {
     "name": "stderr",
     "output_type": "stream",
     "text": [
      "100%|██████████| 3/3 [00:00<00:00,  6.81it/s]\n"
     ]
    },
    {
     "name": "stdout",
     "output_type": "stream",
     "text": [
      "Uploading chunks from Avbrottsrutin för ledningssystemet.pdf\n"
     ]
    },
    {
     "name": "stderr",
     "output_type": "stream",
     "text": [
      "100%|██████████| 5/5 [00:00<00:00,  7.17it/s]\n"
     ]
    },
    {
     "name": "stdout",
     "output_type": "stream",
     "text": [
      "Uploading chunks from Barnrättsombud.pdf\n"
     ]
    },
    {
     "name": "stderr",
     "output_type": "stream",
     "text": [
      "100%|██████████| 3/3 [00:00<00:00,  6.76it/s]\n"
     ]
    },
    {
     "name": "stdout",
     "output_type": "stream",
     "text": [
      "Uploading chunks from Behandling av mineraliseringsstörningar(193329).pdf\n"
     ]
    },
    {
     "name": "stderr",
     "output_type": "stream",
     "text": [
      "100%|██████████| 5/5 [00:00<00:00,  6.51it/s]\n"
     ]
    },
    {
     "name": "stdout",
     "output_type": "stream",
     "text": [
      "Uploading chunks from Beställarfunktion för Hälsoval Västerbotten(264207).pdf\n"
     ]
    },
    {
     "name": "stderr",
     "output_type": "stream",
     "text": [
      "100%|██████████| 4/4 [00:00<00:00,  6.67it/s]\n"
     ]
    },
    {
     "name": "stdout",
     "output_type": "stream",
     "text": [
      "Uploading chunks from Beställning av förtäring vid särskild händelse.pdf\n"
     ]
    },
    {
     "name": "stderr",
     "output_type": "stream",
     "text": [
      "100%|██████████| 1/1 [00:00<00:00,  7.43it/s]\n"
     ]
    },
    {
     "name": "stdout",
     "output_type": "stream",
     "text": [
      "Uploading chunks from Blankett för rapportering av personuppgiftsincident.pdf\n"
     ]
    },
    {
     "name": "stderr",
     "output_type": "stream",
     "text": [
      "100%|██████████| 4/4 [00:00<00:00,  7.62it/s]\n"
     ]
    },
    {
     "name": "stdout",
     "output_type": "stream",
     "text": [
      "Uploading chunks from Brandskydd för verksamhetschefer(230659).pdf\n"
     ]
    },
    {
     "name": "stderr",
     "output_type": "stream",
     "text": [
      "100%|██████████| 3/3 [00:00<00:00,  7.09it/s]\n"
     ]
    },
    {
     "name": "stdout",
     "output_type": "stream",
     "text": [
      "Uploading chunks from Brandskyddsintroduktion för nyanställda(230664).pdf\n"
     ]
    },
    {
     "name": "stderr",
     "output_type": "stream",
     "text": [
      "100%|██████████| 2/2 [00:00<00:00,  7.42it/s]\n"
     ]
    },
    {
     "name": "stdout",
     "output_type": "stream",
     "text": [
      "Uploading chunks from Brandskyddskontroll ledningsstaben.pdf\n"
     ]
    },
    {
     "name": "stderr",
     "output_type": "stream",
     "text": [
      "100%|██████████| 4/4 [00:00<00:00,  6.91it/s]\n"
     ]
    },
    {
     "name": "stdout",
     "output_type": "stream",
     "text": [
      "Uploading chunks from Brukarinstruktion brandfarliga gaser och gasolanläggningar, laboratorier(245357).pdf\n"
     ]
    },
    {
     "name": "stderr",
     "output_type": "stream",
     "text": [
      "100%|██████████| 3/3 [00:00<00:00,  7.91it/s]\n"
     ]
    },
    {
     "name": "stdout",
     "output_type": "stream",
     "text": [
      "Uploading chunks from Dataskyddsombud(304761).pdf\n"
     ]
    },
    {
     "name": "stderr",
     "output_type": "stream",
     "text": [
      "100%|██████████| 1/1 [00:00<00:00,  7.20it/s]\n"
     ]
    },
    {
     "name": "stdout",
     "output_type": "stream",
     "text": [
      "Uploading chunks from Dental erosion(186841).pdf\n"
     ]
    },
    {
     "name": "stderr",
     "output_type": "stream",
     "text": [
      "100%|██████████| 10/10 [00:01<00:00,  6.85it/s]\n"
     ]
    },
    {
     "name": "stdout",
     "output_type": "stream",
     "text": [
      "Uploading chunks from Dental traumaguide(233745).pdf\n"
     ]
    },
    {
     "name": "stderr",
     "output_type": "stream",
     "text": [
      "100%|██████████| 1/1 [00:00<00:00,  7.58it/s]\n"
     ]
    },
    {
     "name": "stdout",
     "output_type": "stream",
     "text": [
      "Uploading chunks from Diarieföring av allmänna handlingar(165680).pdf\n"
     ]
    },
    {
     "name": "stderr",
     "output_type": "stream",
     "text": [
      "100%|██████████| 4/4 [00:00<00:00,  7.37it/s]\n"
     ]
    },
    {
     "name": "stdout",
     "output_type": "stream",
     "text": [
      "Uploading chunks from Digital informationshantering .pdf\n"
     ]
    },
    {
     "name": "stderr",
     "output_type": "stream",
     "text": [
      "100%|██████████| 5/5 [00:00<00:00,  6.93it/s]\n"
     ]
    },
    {
     "name": "stdout",
     "output_type": "stream",
     "text": [
      "Uploading chunks from Dokumenthanteringsplan för forskningsverksamhet_forskningsprojekt(194655).pdf\n"
     ]
    },
    {
     "name": "stderr",
     "output_type": "stream",
     "text": [
      "100%|██████████| 6/6 [00:00<00:00,  6.52it/s]\n"
     ]
    },
    {
     "name": "stdout",
     "output_type": "stream",
     "text": [
      "Uploading chunks from Dokumenthanteringsplan för forskningsverksamhet_forskningsprojekt(370552).pdf\n"
     ]
    },
    {
     "name": "stderr",
     "output_type": "stream",
     "text": [
      "100%|██████████| 6/6 [00:00<00:00,  6.79it/s]\n"
     ]
    },
    {
     "name": "stdout",
     "output_type": "stream",
     "text": [
      "Uploading chunks from Dokumenthanteringsplan för patientinformation och övrig medicinsk dokumentation(370559).pdf\n"
     ]
    },
    {
     "name": "stderr",
     "output_type": "stream",
     "text": [
      "100%|██████████| 30/30 [00:04<00:00,  6.72it/s]\n"
     ]
    },
    {
     "name": "stdout",
     "output_type": "stream",
     "text": [
      "Uploading chunks from Dokumenthanteringsplan för sociala medier(194696).pdf\n"
     ]
    },
    {
     "name": "stderr",
     "output_type": "stream",
     "text": [
      "100%|██████████| 4/4 [00:00<00:00,  6.83it/s]\n"
     ]
    },
    {
     "name": "stdout",
     "output_type": "stream",
     "text": [
      "Uploading chunks from Dokumenthanteringsplan för sociala medier(373862).pdf\n"
     ]
    },
    {
     "name": "stderr",
     "output_type": "stream",
     "text": [
      "100%|██████████| 4/4 [00:00<00:00,  7.17it/s]\n"
     ]
    },
    {
     "name": "stdout",
     "output_type": "stream",
     "text": [
      "Uploading chunks from ECC- Early childhood caries(193331).pdf\n"
     ]
    },
    {
     "name": "stderr",
     "output_type": "stream",
     "text": [
      "100%|██████████| 6/6 [00:00<00:00,  7.31it/s]\n"
     ]
    },
    {
     "name": "stdout",
     "output_type": "stream",
     "text": [
      "Uploading chunks from Egenkontroll av det systematiska säkerhetsarbetet(184386).pdf\n"
     ]
    },
    {
     "name": "stderr",
     "output_type": "stream",
     "text": [
      "100%|██████████| 2/2 [00:00<00:00,  7.15it/s]\n"
     ]
    },
    {
     "name": "stdout",
     "output_type": "stream",
     "text": [
      "Uploading chunks from Egenkontroll av verksamhetens brandskydd(230684).pdf\n"
     ]
    },
    {
     "name": "stderr",
     "output_type": "stream",
     "text": [
      "100%|██████████| 13/13 [00:01<00:00,  6.93it/s]\n"
     ]
    },
    {
     "name": "stdout",
     "output_type": "stream",
     "text": [
      "Uploading chunks from Ekonomi och förvaltning.pdf\n"
     ]
    },
    {
     "name": "stderr",
     "output_type": "stream",
     "text": [
      "100%|██████████| 2/2 [00:00<00:00,  6.82it/s]\n"
     ]
    },
    {
     "name": "stdout",
     "output_type": "stream",
     "text": [
      "Uploading chunks from Enskildas rättigheter enligt GDPR.pdf\n"
     ]
    },
    {
     "name": "stderr",
     "output_type": "stream",
     "text": [
      "100%|██████████| 5/5 [00:00<00:00,  6.92it/s]\n"
     ]
    },
    {
     "name": "stdout",
     "output_type": "stream",
     "text": [
      "Uploading chunks from Exempel på en handlingsplan vid hot och våld i en verksamhet(179647).pdf\n"
     ]
    },
    {
     "name": "stderr",
     "output_type": "stream",
     "text": [
      " 25%|██▌       | 1/4 [00:00<00:00,  6.60it/s]Retrying langchain.embeddings.openai.embed_with_retry.<locals>._embed_with_retry in 4.0 seconds as it raised RateLimitError: Requests to the Get a vector representation of a given input that can be easily consumed by machine learning models and algorithms. Operation under Azure OpenAI API version 2023-05-15 have exceeded call rate limit of your current OpenAI S0 pricing tier. Please retry after 14 seconds. Please go here: https://aka.ms/oai/quotaincrease if you would like to further increase the default rate limit..\n",
      "Retrying langchain.embeddings.openai.embed_with_retry.<locals>._embed_with_retry in 4.0 seconds as it raised RateLimitError: Requests to the Get a vector representation of a given input that can be easily consumed by machine learning models and algorithms. Operation under Azure OpenAI API version 2023-05-15 have exceeded call rate limit of your current OpenAI S0 pricing tier. Please retry after 10 seconds. Please go here: https://aka.ms/oai/quotaincrease if you would like to further increase the default rate limit..\n",
      "Retrying langchain.embeddings.openai.embed_with_retry.<locals>._embed_with_retry in 4.0 seconds as it raised RateLimitError: Requests to the Get a vector representation of a given input that can be easily consumed by machine learning models and algorithms. Operation under Azure OpenAI API version 2023-05-15 have exceeded call rate limit of your current OpenAI S0 pricing tier. Please retry after 6 seconds. Please go here: https://aka.ms/oai/quotaincrease if you would like to further increase the default rate limit..\n",
      "Retrying langchain.embeddings.openai.embed_with_retry.<locals>._embed_with_retry in 8.0 seconds as it raised RateLimitError: Requests to the Get a vector representation of a given input that can be easily consumed by machine learning models and algorithms. Operation under Azure OpenAI API version 2023-05-15 have exceeded call rate limit of your current OpenAI S0 pricing tier. Please retry after 2 seconds. Please go here: https://aka.ms/oai/quotaincrease if you would like to further increase the default rate limit..\n",
      "100%|██████████| 4/4 [00:20<00:00,  5.19s/it]\n"
     ]
    },
    {
     "name": "stdout",
     "output_type": "stream",
     "text": [
      "Uploading chunks from Fluorguiden(235976).pdf\n"
     ]
    },
    {
     "name": "stderr",
     "output_type": "stream",
     "text": [
      "100%|██████████| 1/1 [00:00<00:00,  7.76it/s]\n"
     ]
    },
    {
     "name": "stdout",
     "output_type": "stream",
     "text": [
      "Uploading chunks from Funktionshinderspolitisk strategi för Västerbottens läns landsting 2017-2020(359602).pdf\n"
     ]
    },
    {
     "name": "stderr",
     "output_type": "stream",
     "text": [
      "100%|██████████| 7/7 [00:01<00:00,  6.82it/s]\n"
     ]
    },
    {
     "name": "stdout",
     "output_type": "stream",
     "text": [
      "Uploading chunks from Förebyggande tandvård för barn, ungdom och unga vuxna(186742).pdf\n"
     ]
    },
    {
     "name": "stderr",
     "output_type": "stream",
     "text": [
      "100%|██████████| 10/10 [00:01<00:00,  6.36it/s]\n"
     ]
    },
    {
     "name": "stdout",
     "output_type": "stream",
     "text": [
      "Uploading chunks from Granska och fastställa styrande dokument.pdf\n"
     ]
    },
    {
     "name": "stderr",
     "output_type": "stream",
     "text": [
      "100%|██████████| 3/3 [00:00<00:00,  7.33it/s]\n"
     ]
    },
    {
     "name": "stdout",
     "output_type": "stream",
     "text": [
      "Uploading chunks from Grunder för beslutsfattande.pdf\n"
     ]
    },
    {
     "name": "stderr",
     "output_type": "stream",
     "text": [
      "100%|██████████| 5/5 [00:00<00:00,  7.02it/s]\n"
     ]
    },
    {
     "name": "stdout",
     "output_type": "stream",
     "text": [
      "Uploading chunks from Gränsdragningslista_brandskyddet mellan fastighetsägare och verksamhetsägare(232538).pdf\n"
     ]
    },
    {
     "name": "stderr",
     "output_type": "stream",
     "text": [
      "100%|██████████| 3/3 [00:00<00:00,  6.12it/s]\n"
     ]
    },
    {
     "name": "stdout",
     "output_type": "stream",
     "text": [
      "Uploading chunks from Handbok för systematiskt brandskyddsarbete inom Region Västerbotten(265146).pdf\n"
     ]
    },
    {
     "name": "stderr",
     "output_type": "stream",
     "text": [
      "100%|██████████| 12/12 [00:01<00:00,  6.64it/s]\n"
     ]
    },
    {
     "name": "stdout",
     "output_type": "stream",
     "text": [
      "Uploading chunks from Handlingsplan Hot & Våld .pdf\n"
     ]
    },
    {
     "name": "stderr",
     "output_type": "stream",
     "text": [
      "100%|██████████| 3/3 [00:00<00:00,  7.26it/s]\n"
     ]
    },
    {
     "name": "stdout",
     "output_type": "stream",
     "text": [
      "Uploading chunks from Handlingsplan vid brand(230683).pdf\n"
     ]
    },
    {
     "name": "stderr",
     "output_type": "stream",
     "text": [
      "100%|██████████| 3/3 [00:00<00:00,  7.83it/s]\n"
     ]
    },
    {
     "name": "stdout",
     "output_type": "stream",
     "text": [
      "Uploading chunks from Handläggning av frivilligorganisationers ansökan om folkhälsobidrag(275965).pdf\n"
     ]
    },
    {
     "name": "stderr",
     "output_type": "stream",
     "text": [
      "100%|██████████| 3/3 [00:00<00:00,  6.47it/s]\n"
     ]
    },
    {
     "name": "stdout",
     "output_type": "stream",
     "text": [
      "Uploading chunks from Handläggning av visselblåsarärenden.pdf\n"
     ]
    },
    {
     "name": "stderr",
     "output_type": "stream",
     "text": [
      "100%|██████████| 3/3 [00:00<00:00,  7.33it/s]\n"
     ]
    },
    {
     "name": "stdout",
     "output_type": "stream",
     "text": [
      "Uploading chunks from Hantering av nyckelbrytare för brandfarliga gaser(245483).pdf\n"
     ]
    },
    {
     "name": "stderr",
     "output_type": "stream",
     "text": [
      "100%|██████████| 3/3 [00:00<00:00,  7.32it/s]\n"
     ]
    },
    {
     "name": "stdout",
     "output_type": "stream",
     "text": [
      "Uploading chunks from Hantering av redovisande dokument.pdf\n"
     ]
    },
    {
     "name": "stderr",
     "output_type": "stream",
     "text": [
      "100%|██████████| 4/4 [00:00<00:00,  6.65it/s]\n"
     ]
    },
    {
     "name": "stdout",
     "output_type": "stream",
     "text": [
      "Uploading chunks from Hanteringsrutiner för verksamhetsansvariga med tillgång till brandfarliga gaser(245449).pdf\n"
     ]
    },
    {
     "name": "stderr",
     "output_type": "stream",
     "text": [
      "100%|██████████| 3/3 [00:00<00:00,  6.67it/s]\n"
     ]
    },
    {
     "name": "stdout",
     "output_type": "stream",
     "text": [
      "Uploading chunks from Hälso- och sjukvårdsnämndens delegationsordning(346082).pdf\n"
     ]
    },
    {
     "name": "stderr",
     "output_type": "stream",
     "text": [
      "100%|██████████| 14/14 [00:02<00:00,  6.86it/s]\n"
     ]
    },
    {
     "name": "stdout",
     "output_type": "stream",
     "text": [
      "Uploading chunks from Hälso- och sjukvårdsnämndens reglemente(346112).pdf\n"
     ]
    },
    {
     "name": "stderr",
     "output_type": "stream",
     "text": [
      "100%|██████████| 11/11 [00:01<00:00,  6.78it/s]\n"
     ]
    },
    {
     "name": "stdout",
     "output_type": "stream",
     "text": [
      "Uploading chunks from Identifiering, bemötande, stöd och behandling till våldsutsatta vuxna.pdf\n"
     ]
    },
    {
     "name": "stderr",
     "output_type": "stream",
     "text": [
      "100%|██████████| 19/19 [00:02<00:00,  6.80it/s]\n"
     ]
    },
    {
     "name": "stdout",
     "output_type": "stream",
     "text": [
      "Uploading chunks from Incidentrapportering - Störningar i kontinuiteten i hälso- och sjukvårdstjänsten (NIS).pdf\n"
     ]
    },
    {
     "name": "stderr",
     "output_type": "stream",
     "text": [
      "100%|██████████| 8/8 [00:01<00:00,  7.03it/s]\n"
     ]
    },
    {
     "name": "stdout",
     "output_type": "stream",
     "text": [
      "Uploading chunks from Informationssäkerhet -  förvaltning och drift.pdf\n"
     ]
    },
    {
     "name": "stderr",
     "output_type": "stream",
     "text": [
      "100%|██████████| 11/11 [00:01<00:00,  6.95it/s]\n"
     ]
    },
    {
     "name": "stdout",
     "output_type": "stream",
     "text": [
      "Uploading chunks from Informationssäkerhet - användare.pdf\n"
     ]
    },
    {
     "name": "stderr",
     "output_type": "stream",
     "text": [
      "100%|██████████| 6/6 [00:01<00:00,  5.96it/s]\n"
     ]
    },
    {
     "name": "stdout",
     "output_type": "stream",
     "text": [
      "Uploading chunks from Informationssäkerhet.pdf\n"
     ]
    },
    {
     "name": "stderr",
     "output_type": "stream",
     "text": [
      "100%|██████████| 2/2 [00:00<00:00,  7.67it/s]\n"
     ]
    },
    {
     "name": "stdout",
     "output_type": "stream",
     "text": [
      "Uploading chunks from Informationssäkerhetsklassning i KLASSA.pdf\n"
     ]
    },
    {
     "name": "stderr",
     "output_type": "stream",
     "text": [
      "100%|██████████| 14/14 [00:02<00:00,  6.85it/s]\n"
     ]
    },
    {
     "name": "stdout",
     "output_type": "stream",
     "text": [
      "Uploading chunks from Informationsunderlag - Hantering av brandfarlig vara, gas och vätska(247283).pdf\n"
     ]
    },
    {
     "name": "stderr",
     "output_type": "stream",
     "text": [
      "100%|██████████| 2/2 [00:00<00:00,  7.18it/s]\n"
     ]
    },
    {
     "name": "stdout",
     "output_type": "stream",
     "text": [
      "Uploading chunks from Inrättande av ledningsgrupp, styrgrupp, kommitté och råd(269474).pdf\n"
     ]
    },
    {
     "name": "stderr",
     "output_type": "stream",
     "text": [
      "100%|██████████| 3/3 [00:00<00:00,  7.33it/s]\n"
     ]
    },
    {
     "name": "stdout",
     "output_type": "stream",
     "text": [
      "Uploading chunks from Instruktion för registerförteckning.pdf\n"
     ]
    },
    {
     "name": "stderr",
     "output_type": "stream",
     "text": [
      "100%|██████████| 2/2 [00:00<00:00,  7.62it/s]\n"
     ]
    },
    {
     "name": "stdout",
     "output_type": "stream",
     "text": [
      "Uploading chunks from Intern rutin för hantering av explosiv eter(188636).pdf\n"
     ]
    },
    {
     "name": "stderr",
     "output_type": "stream",
     "text": [
      "100%|██████████| 3/3 [00:00<00:00,  7.09it/s]\n"
     ]
    },
    {
     "name": "stdout",
     "output_type": "stream",
     "text": [
      "Uploading chunks from Jämställdhet och jämlikhet.pdf\n"
     ]
    },
    {
     "name": "stderr",
     "output_type": "stream",
     "text": [
      "100%|██████████| 2/2 [00:00<00:00,  7.34it/s]\n"
     ]
    },
    {
     "name": "stdout",
     "output_type": "stream",
     "text": [
      "Uploading chunks from Kamerabevakning i regionen.pdf\n"
     ]
    },
    {
     "name": "stderr",
     "output_type": "stream",
     "text": [
      "100%|██████████| 5/5 [00:00<00:00,  7.22it/s]\n"
     ]
    },
    {
     "name": "stdout",
     "output_type": "stream",
     "text": [
      "Uploading chunks from Kartlägg riskerna för hot och våld i arbetsmiljön(185773).pdf\n"
     ]
    },
    {
     "name": "stderr",
     "output_type": "stream",
     "text": [
      "100%|██████████| 1/1 [00:00<00:00,  7.93it/s]\n"
     ]
    },
    {
     "name": "stdout",
     "output_type": "stream",
     "text": [
      "Uploading chunks from Kommunikation.pdf\n"
     ]
    },
    {
     "name": "stderr",
     "output_type": "stream",
     "text": [
      "100%|██████████| 2/2 [00:00<00:00,  6.58it/s]\n"
     ]
    },
    {
     "name": "stdout",
     "output_type": "stream",
     "text": [
      "Uploading chunks from Konsekvensbedömning avseende dataskydd.pdf\n"
     ]
    },
    {
     "name": "stderr",
     "output_type": "stream",
     "text": [
      "100%|██████████| 4/4 [00:00<00:00,  7.10it/s]\n"
     ]
    },
    {
     "name": "stdout",
     "output_type": "stream",
     "text": [
      "Uploading chunks from Kontrollsystem för efterlevnad av Dataskyddsförordningen(313124).pdf\n"
     ]
    },
    {
     "name": "stderr",
     "output_type": "stream",
     "text": [
      "100%|██████████| 2/2 [00:00<00:00,  7.73it/s]\n"
     ]
    },
    {
     "name": "stdout",
     "output_type": "stream",
     "text": [
      "Uploading chunks from Kostanamnes Barn(280181).pdf\n"
     ]
    },
    {
     "name": "stderr",
     "output_type": "stream",
     "text": [
      "100%|██████████| 2/2 [00:00<00:00,  6.78it/s]\n"
     ]
    },
    {
     "name": "stdout",
     "output_type": "stream",
     "text": [
      "Uploading chunks from Kostanamnes Vuxna(280184).pdf\n"
     ]
    },
    {
     "name": "stderr",
     "output_type": "stream",
     "text": [
      "100%|██████████| 2/2 [00:00<00:00,  7.01it/s]\n"
     ]
    },
    {
     "name": "stdout",
     "output_type": "stream",
     "text": [
      "Uploading chunks from Kvalitet.pdf\n"
     ]
    },
    {
     "name": "stderr",
     "output_type": "stream",
     "text": [
      "100%|██████████| 2/2 [00:00<00:00,  5.72it/s]\n"
     ]
    },
    {
     "name": "stdout",
     "output_type": "stream",
     "text": [
      "Uploading chunks from Landstingsplan 2016-2019(266621).pdf\n"
     ]
    },
    {
     "name": "stderr",
     "output_type": "stream",
     "text": [
      "100%|██████████| 1/1 [00:00<00:00,  7.46it/s]\n"
     ]
    },
    {
     "name": "stdout",
     "output_type": "stream",
     "text": [
      "Uploading chunks from Ledning- och styrmodell för informationssäkerhet(269051).pdf\n"
     ]
    },
    {
     "name": "stderr",
     "output_type": "stream",
     "text": [
      "100%|██████████| 5/5 [00:00<00:00,  7.00it/s]\n"
     ]
    },
    {
     "name": "stdout",
     "output_type": "stream",
     "text": [
      "Uploading chunks from Länsrutiner för Hälsoval Västerbotten gällande röntgenremisser utfärdade av fysioterapeut(383967).pdf\n"
     ]
    },
    {
     "name": "stderr",
     "output_type": "stream",
     "text": [
      "100%|██████████| 3/3 [00:00<00:00,  7.07it/s]\n"
     ]
    },
    {
     "name": "stdout",
     "output_type": "stream",
     "text": [
      "Uploading chunks from Mall för larm och utökad beredskapsnivå.pdf\n"
     ]
    },
    {
     "name": "stderr",
     "output_type": "stream",
     "text": [
      "100%|██████████| 6/6 [00:00<00:00,  7.26it/s]\n"
     ]
    },
    {
     "name": "stdout",
     "output_type": "stream",
     "text": [
      "Uploading chunks from Mall för reservrutiner .pdf\n"
     ]
    },
    {
     "name": "stderr",
     "output_type": "stream",
     "text": [
      "100%|██████████| 10/10 [00:01<00:00,  6.80it/s]\n"
     ]
    },
    {
     "name": "stdout",
     "output_type": "stream",
     "text": [
      "Uploading chunks from Mall – för utredning av personuppgiftsincidenter.pdf\n"
     ]
    },
    {
     "name": "stderr",
     "output_type": "stream",
     "text": [
      "100%|██████████| 6/6 [00:00<00:00,  7.44it/s]\n"
     ]
    },
    {
     "name": "stdout",
     "output_type": "stream",
     "text": [
      "Uploading chunks from Mekaniska lås- och passagesystem, överfalls_bråk- och inbrottslarm sjukhusbyggnader och externa lokaler.pdf\n"
     ]
    },
    {
     "name": "stderr",
     "output_type": "stream",
     "text": [
      "100%|██████████| 4/4 [00:00<00:00,  7.10it/s]\n"
     ]
    },
    {
     "name": "stdout",
     "output_type": "stream",
     "text": [
      "Uploading chunks from Mekaniska lås- och passagesystem, överfalls_bråk- och inbrottslarm,  Folktandvården(285825).pdf\n"
     ]
    },
    {
     "name": "stderr",
     "output_type": "stream",
     "text": [
      "100%|██████████| 2/2 [00:00<00:00,  6.58it/s]\n"
     ]
    },
    {
     "name": "stdout",
     "output_type": "stream",
     "text": [
      "Uploading chunks from Mekaniska lås- och passagesystem, överfalls_bråk- och inbrottslarm, Hälsocentraler(285830).pdf\n"
     ]
    },
    {
     "name": "stderr",
     "output_type": "stream",
     "text": [
      "100%|██████████| 3/3 [00:00<00:00,  7.05it/s]\n"
     ]
    },
    {
     "name": "stdout",
     "output_type": "stream",
     "text": [
      "Uploading chunks from Mekaniska låssystem,  sjukhusbyggnader(285522).pdf\n"
     ]
    },
    {
     "name": "stderr",
     "output_type": "stream",
     "text": [
      "100%|██████████| 2/2 [00:00<00:00,  6.88it/s]\n"
     ]
    },
    {
     "name": "stdout",
     "output_type": "stream",
     "text": [
      "Uploading chunks from Miljö.pdf\n"
     ]
    },
    {
     "name": "stderr",
     "output_type": "stream",
     "text": [
      "100%|██████████| 2/2 [00:00<00:00,  7.13it/s]\n"
     ]
    },
    {
     "name": "stdout",
     "output_type": "stream",
     "text": [
      "Uploading chunks from Minneslista vid hot(180254).pdf\n"
     ]
    },
    {
     "name": "stderr",
     "output_type": "stream",
     "text": [
      "100%|██████████| 2/2 [00:00<00:00,  6.90it/s]\n"
     ]
    },
    {
     "name": "stdout",
     "output_type": "stream",
     "text": [
      "Uploading chunks from Misstänkta försändelser(185880).pdf\n"
     ]
    },
    {
     "name": "stderr",
     "output_type": "stream",
     "text": [
      "100%|██████████| 2/2 [00:00<00:00,  6.79it/s]\n"
     ]
    },
    {
     "name": "stdout",
     "output_type": "stream",
     "text": [
      "Uploading chunks from Passagesystem, överfalls_bråk- och inbrottslarm, sjukhusbyggnader(285568).pdf\n"
     ]
    },
    {
     "name": "stderr",
     "output_type": "stream",
     "text": [
      "100%|██████████| 2/2 [00:00<00:00,  6.92it/s]\n"
     ]
    },
    {
     "name": "stdout",
     "output_type": "stream",
     "text": [
      "Uploading chunks from Patientnämndens reglemente(346114).pdf\n"
     ]
    },
    {
     "name": "stderr",
     "output_type": "stream",
     "text": [
      "100%|██████████| 7/7 [00:01<00:00,  6.93it/s]\n"
     ]
    },
    {
     "name": "stdout",
     "output_type": "stream",
     "text": [
      "Uploading chunks from Plan för kris- och katastrofmedicinsk beredskap(418633).pdf\n"
     ]
    },
    {
     "name": "stderr",
     "output_type": "stream",
     "text": [
      "100%|██████████| 53/53 [00:07<00:00,  6.83it/s]\n"
     ]
    },
    {
     "name": "stdout",
     "output_type": "stream",
     "text": [
      "Uploading chunks from Plan för krisstöd vid särskild händelse(362232).pdf\n"
     ]
    },
    {
     "name": "stderr",
     "output_type": "stream",
     "text": [
      "100%|██████████| 10/10 [00:01<00:00,  7.22it/s]\n"
     ]
    },
    {
     "name": "stdout",
     "output_type": "stream",
     "text": [
      "Uploading chunks from Principer för fissurförsegling(301569).pdf\n"
     ]
    },
    {
     "name": "stderr",
     "output_type": "stream",
     "text": [
      "100%|██████████| 3/3 [00:00<00:00,  6.76it/s]\n"
     ]
    },
    {
     "name": "stdout",
     "output_type": "stream",
     "text": [
      "Uploading chunks from Principer för gränsdragning mellan förvaltningarnas uppgifter avseende ledningssystem(357719).pdf\n"
     ]
    },
    {
     "name": "stderr",
     "output_type": "stream",
     "text": [
      "100%|██████████| 3/3 [00:00<00:00,  7.37it/s]\n"
     ]
    },
    {
     "name": "stdout",
     "output_type": "stream",
     "text": [
      "Uploading chunks from Process för ordnat övertag från annat verksamhetsområde.pdf\n"
     ]
    },
    {
     "name": "stderr",
     "output_type": "stream",
     "text": [
      "100%|██████████| 6/6 [00:00<00:00,  7.45it/s]\n"
     ]
    },
    {
     "name": "stdout",
     "output_type": "stream",
     "text": [
      "Uploading chunks from Rapportering av säkerhetsincidenter.pdf\n"
     ]
    },
    {
     "name": "stderr",
     "output_type": "stream",
     "text": [
      "100%|██████████| 3/3 [00:00<00:00,  7.18it/s]\n"
     ]
    },
    {
     "name": "stdout",
     "output_type": "stream",
     "text": [
      "Uploading chunks from Rapportering och utredning av personuppgiftsincidenter .pdf\n"
     ]
    },
    {
     "name": "stderr",
     "output_type": "stream",
     "text": [
      "100%|██████████| 6/6 [00:00<00:00,  7.24it/s]\n"
     ]
    },
    {
     "name": "stdout",
     "output_type": "stream",
     "text": [
      "Uploading chunks from Regional evakueringsplan.pdf\n"
     ]
    },
    {
     "name": "stderr",
     "output_type": "stream",
     "text": [
      "100%|██████████| 10/10 [00:01<00:00,  7.02it/s]\n"
     ]
    },
    {
     "name": "stdout",
     "output_type": "stream",
     "text": [
      "Uploading chunks from Regionala utvecklingsnämndens reglemente(346113).pdf\n"
     ]
    },
    {
     "name": "stderr",
     "output_type": "stream",
     "text": [
      "100%|██████████| 10/10 [00:01<00:00,  6.75it/s]"
     ]
    },
    {
     "name": "stdout",
     "output_type": "stream",
     "text": [
      "CPU times: user 25 s, sys: 442 ms, total: 25.4 s\n",
      "Wall time: 1min 58s\n"
     ]
    },
    {
     "name": "stderr",
     "output_type": "stream",
     "text": [
      "\n"
     ]
    }
   ],
   "source": [
    "%%time\n",
    "for bookname,bookmap in book_pages_map.items():\n",
    "    print(\"Uploading chunks from\",bookname)\n",
    "    for page in tqdm(bookmap):\n",
    "        try:\n",
    "            page_num = page[0] + 1\n",
    "            content = page[2]\n",
    "            book_url = BASE_CONTAINER_URL + bookname\n",
    "            upload_payload = {\n",
    "                \"value\": [\n",
    "                    {\n",
    "                        \"id\": text_to_base64(bookname + str(page_num)),\n",
    "                        \"title\": f\"{bookname}_page_{str(page_num)}\",\n",
    "                        \"chunk\": content,\n",
    "                        \"chunkVector\": embedder.embed_query(content if content!=\"\" else \"-------\"),\n",
    "                        \"name\": bookname,\n",
    "                        \"location\": book_url,\n",
    "                        \"page_num\": page_num,\n",
    "                        \"@search.action\": \"upload\"\n",
    "                    },\n",
    "                ]\n",
    "            }\n",
    "\n",
    "            r = requests.post(os.environ['AZURE_SEARCH_ENDPOINT'] + \"/indexes/\" + index_name + \"/docs/index\",\n",
    "                                 data=json.dumps(upload_payload), headers=headers, params=params)\n",
    "            if r.status_code != 200:\n",
    "                print(r.status_code)\n",
    "                print(r.text)\n",
    "        except Exception as e:\n",
    "            print(\"Exception:\",e)\n",
    "            print(content)\n",
    "            continue"
   ]
  },
  {
   "cell_type": "markdown",
   "id": "715cddcf-af7b-4006-a047-853fc7a66be3",
   "metadata": {},
   "source": [
    "## Query the Index"
   ]
  },
  {
   "cell_type": "code",
   "execution_count": 9,
   "id": "8b408798-5527-44ca-9dba-cad2ee726aca",
   "metadata": {},
   "outputs": [],
   "source": [
    "# QUESTION = \"what normally rich dad do that is different from poor dad?\"\n",
    "# QUESTION = \"Tell me a summary of the book Boundaries\"\n",
    "# QUESTION = \"Dime que significa la radiacion del cuerpo negro\"\n",
    "# QUESTION = \"what is the acronym of the main point of Made to Stick book\"\n",
    "# QUESTION = \"Tell me a python example of how do I push documents with vectors to an index using the python SDK?\"\n",
    "# QUESTION = \"who won the soccer worldcup in 1994?\" # this question should have no answer\n",
    "QUESTION = \"Vilket konto ska jag fakturera egenavgift för hjälpmedel?\"\n",
    "QUESTION = \"Hur ser rättigheterna ut för enskilda personer gällander GDPR?\"\n"
   ]
  },
  {
   "cell_type": "code",
   "execution_count": 10,
   "id": "1b182ade-0ddd-47a1-b1eb-2cbf435c317f",
   "metadata": {},
   "outputs": [],
   "source": [
    "vector_indexes = [index_name]\n",
    "\n",
    "ordered_results = get_search_results(QUESTION, vector_indexes, \n",
    "                                        k=10,\n",
    "                                        reranker_threshold=1,\n",
    "                                        vector_search=True, \n",
    "                                        similarity_k=5,\n",
    "                                        query_vector = embedder.embed_query(QUESTION)\n",
    "                                        )"
   ]
  },
  {
   "cell_type": "markdown",
   "id": "fdd2f3f2-2d66-4bd4-b90b-d30970b71af4",
   "metadata": {},
   "source": [
    "**Note**: that we are picking a larger k=10 since these chunks are NOT of 5000 chars each like prior notebooks, but instead each page is a chunk."
   ]
  },
  {
   "cell_type": "code",
   "execution_count": 11,
   "id": "410ff796-dab1-4817-a3a5-82eeff6c0c57",
   "metadata": {},
   "outputs": [],
   "source": [
    "COMPLETION_TOKENS = 1000\n",
    "MODEL = \"gpt-35-turbo-16k\"\n",
    "llm = AzureChatOpenAI(deployment_name=MODEL, temperature=0.2, max_tokens=COMPLETION_TOKENS)"
   ]
  },
  {
   "cell_type": "code",
   "execution_count": 12,
   "id": "744aba20-b3fd-4286-8d58-2ddfccc77734",
   "metadata": {},
   "outputs": [
    {
     "name": "stdout",
     "output_type": "stream",
     "text": [
      "Number of chunks: 5\n"
     ]
    }
   ],
   "source": [
    "top_docs = []\n",
    "for key,value in ordered_results.items():\n",
    "    location = value[\"location\"] if value[\"location\"] is not None else \"\"\n",
    "    top_docs.append(Document(page_content=value[\"chunk\"], metadata={\"source\": location+os.environ['BLOB_SAS_TOKEN']}))\n",
    "        \n",
    "print(\"Number of chunks:\",len(top_docs))"
   ]
  },
  {
   "cell_type": "code",
   "execution_count": 20,
   "id": "db1c4d56-8c2d-47d6-8717-810f156f1c0c",
   "metadata": {},
   "outputs": [
    {
     "name": "stdout",
     "output_type": "stream",
     "text": [
      "System prompt token count: 1669\n",
      "Max Completion Token count: 1000\n",
      "Combined docs (context) token count: 3911\n",
      "--------\n",
      "Requested token count: 6580\n",
      "Token limit for gpt-35-turbo-16k : 16384\n",
      "Chain Type selected: stuff\n"
     ]
    }
   ],
   "source": [
    "# Calculate number of tokens of our docs\n",
    "if(len(top_docs)>0):\n",
    "    tokens_limit = model_tokens_limit(MODEL) # this is a custom function we created in common/utils.py\n",
    "    prompt_tokens = num_tokens_from_string(COMBINE_PROMPT_TEMPLATE) # this is a custom function we created in common/utils.py\n",
    "    context_tokens = num_tokens_from_docs(top_docs) # this is a custom function we created in common/utils.py\n",
    "    \n",
    "    requested_tokens = prompt_tokens + context_tokens + COMPLETION_TOKENS\n",
    "    \n",
    "    chain_type = \"map_reduce\" if requested_tokens > 0.9 * tokens_limit else \"stuff\"  \n",
    "    \n",
    "    print(\"System prompt token count:\",prompt_tokens)\n",
    "    print(\"Max Completion Token count:\", COMPLETION_TOKENS)\n",
    "    print(\"Combined docs (context) token count:\",context_tokens)\n",
    "    print(\"--------\")\n",
    "    print(\"Requested token count:\",requested_tokens)\n",
    "    print(\"Token limit for\", MODEL, \":\", tokens_limit)\n",
    "    print(\"Chain Type selected:\", chain_type)\n",
    "        \n",
    "else:\n",
    "    print(\"NO RESULTS FROM AZURE SEARCH\")"
   ]
  },
  {
   "cell_type": "code",
   "execution_count": 21,
   "id": "62cf3a3f-2b4d-4806-8b92-eb982c52b0cd",
   "metadata": {},
   "outputs": [],
   "source": [
    "if chain_type == \"stuff\":\n",
    "    chain = load_qa_with_sources_chain(llm, chain_type=chain_type, \n",
    "                                       prompt=COMBINE_PROMPT)\n",
    "elif chain_type == \"map_reduce\":\n",
    "    chain = load_qa_with_sources_chain(llm, chain_type=chain_type, \n",
    "                                       question_prompt=COMBINE_QUESTION_PROMPT,\n",
    "                                       combine_prompt=COMBINE_PROMPT,\n",
    "                                       return_intermediate_steps=True)"
   ]
  },
  {
   "cell_type": "code",
   "execution_count": 22,
   "id": "3b412c56-650f-4ca4-a868-9954f83679fa",
   "metadata": {},
   "outputs": [
    {
     "name": "stdout",
     "output_type": "stream",
     "text": [
      "CPU times: user 2.48 ms, sys: 4.11 ms, total: 6.58 ms\n",
      "Wall time: 12.2 s\n"
     ]
    }
   ],
   "source": [
    "%%time\n",
    "# Try with other language as well\n",
    "response = chain({\"input_documents\": top_docs, \"question\": QUESTION, \"language\": \"Swedish\"})"
   ]
  },
  {
   "cell_type": "code",
   "execution_count": 23,
   "id": "63f07b08-87bd-4518-b2f2-03ee1096f59f",
   "metadata": {},
   "outputs": [
    {
     "data": {
      "text/markdown": [
       "Enligt GDPR har enskilda personer följande rättigheter:\n",
       "\n",
       "1. Rätt till tillgång (Art 15): Den registrerade har rätt att få information om när och hur deras personuppgifter behandlas, samt att få tillgång till personuppgifterna<sup><a href=\"https://blobstoragejd5ypzfx2l6vi.blob.core.windows.net/digge-100-dokumentEnskildas rättigheter enligt GDPR.pdf?sv=2022-11-02&ss=bfqt&srt=c&sp=rwdlacupiytfx&se=2024-01-30T01:31:54Z&st=2023-11-20T17:31:54Z&spr=https&sig=Ztal%2BZ4HCnOpVZBTKfCKfGpK7E0SkRHO2dcvmBL%2BHKc%3D\">[1]</a></sup><sup><a href=\"https://blobstoragejd5ypzfx2l6vi.blob.core.windows.net/digge-100-dokumentEnskildas rättigheter enligt GDPR.pdf?sv=2022-11-02&ss=bfqt&srt=c&sp=rwdlacupiytfx&se=2024-01-30T01:31:54Z&st=2023-11-20T17:31:54Z&spr=https&sig=Ztal%2BZ4HCnOpVZBTKfCKfGpK7E0SkRHO2dcvmBL%2BHKc%3D\">[2]</a></sup>.\n",
       "\n",
       "2. Rätt till rättelse (Art 16): Den registrerade har rätt att begära att få sina personuppgifter rättade utan onödigt dröjsmål<sup><a href=\"https://blobstoragejd5ypzfx2l6vi.blob.core.windows.net/digge-100-dokumentEnskildas rättigheter enligt GDPR.pdf?sv=2022-11-02&ss=bfqt&srt=c&sp=rwdlacupiytfx&se=2024-01-30T01:31:54Z&st=2023-11-20T17:31:54Z&spr=https&sig=Ztal%2BZ4HCnOpVZBTKfCKfGpK7E0SkRHO2dcvmBL%2BHKc%3D\">[1]</a></sup>.\n",
       "\n",
       "3. Rätt till radering (Art 17): Den registrerade har rätt att begära att deras personuppgifter raderas, förutsatt att det inte finns något lagligt skäl för att behålla dem<sup><a href=\"https://blobstoragejd5ypzfx2l6vi.blob.core.windows.net/digge-100-dokumentEnskildas rättigheter enligt GDPR.pdf?sv=2022-11-02&ss=bfqt&srt=c&sp=rwdlacupiytfx&se=2024-01-30T01:31:54Z&st=2023-11-20T17:31:54Z&spr=https&sig=Ztal%2BZ4HCnOpVZBTKfCKfGpK7E0SkRHO2dcvmBL%2BHKc%3D\">[1]</a></sup>.\n",
       "\n",
       "4. Rätt till begränsning av behandling (Art 18): Den registrerade har rätt att begära att behandlingen av deras personuppgifter begränsas under vissa omständigheter<sup><a href=\"https://blobstoragejd5ypzfx2l6vi.blob.core.windows.net/digge-100-dokumentEnskildas rättigheter enligt GDPR.pdf?sv=2022-11-02&ss=bfqt&srt=c&sp=rwdlacupiytfx&se=2024-01-30T01:31:54Z&st=2023-11-20T17:31:54Z&spr=https&sig=Ztal%2BZ4HCnOpVZBTKfCKfGpK7E0SkRHO2dcvmBL%2BHKc%3D\">[1]</a></sup>.\n",
       "\n",
       "5. Rätt till dataportabilitet (Art 20): Den registrerade har rätt att"
      ],
      "text/plain": [
       "<IPython.core.display.Markdown object>"
      ]
     },
     "metadata": {},
     "output_type": "display_data"
    }
   ],
   "source": [
    "display(Markdown(response['output_text']))"
   ]
  },
  {
   "cell_type": "markdown",
   "id": "3941796c-7655-4888-a358-8a62e380bd7e",
   "metadata": {},
   "source": [
    "# Summary\n",
    "\n",
    "In this notebook we learned how to deal with complex and large Documents and make them available for Q&A over them using [Hybrid Search](https://learn.microsoft.com/en-us/azure/search/search-get-started-vector#hybrid-search) (text + vector search).\n",
    "\n",
    "We also learned the power of Azure Document Inteligence API and why it is recommended for production scenarios where manual Document parsing (instead of Azure Search Indexer Document Cracking) is necessary.\n",
    "\n",
    "Using Azure Cognitive Search with its Vector capabilities and hybrid search features eliminates the need for other vector databases such as Weaviate, Qdrant, Milvus, Pinecone, and so on.\n"
   ]
  },
  {
   "cell_type": "markdown",
   "id": "85d9a7d1-f029-416b-8eb2-00a8afb9151d",
   "metadata": {},
   "source": [
    "# NEXT\n",
    "So far we have learned how to use OpenAI vectors and completion APIs in order to get an excelent answer from our documents stored in Azure Cognitive Search. This is the backbone for a GPT Smart Search Engine.\n",
    "\n",
    "However, we are missing something: **How to have a conversation with this engine?**\n",
    "\n",
    "On the next Notebook, we are going to understand the concept of **memory**. This is necessary in order to have a chatbot that can establish a conversation with the user. Without memory, there is no real conversation."
   ]
  },
  {
   "cell_type": "markdown",
   "metadata": {},
   "source": []
  }
 ],
 "metadata": {
  "kernelspec": {
   "display_name": "Python 3.10 - SDK v2",
   "language": "python",
   "name": "python310-sdkv2"
  }
 },
 "nbformat": 4,
 "nbformat_minor": 5
}
