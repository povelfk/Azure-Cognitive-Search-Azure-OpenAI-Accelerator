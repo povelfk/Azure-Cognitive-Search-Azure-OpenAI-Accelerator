{
 "cells": [
  {
   "cell_type": "markdown",
   "id": "66ab3cc5-aee4-415a-9391-1e5d37ccaf1d",
   "metadata": {},
   "source": [
    "# Internet and Websites Search using Bing API - Bing Chat Clone"
   ]
  },
  {
   "cell_type": "markdown",
   "id": "306fc0a9-4044-441d-9ba7-f54f32e6ea9f",
   "metadata": {},
   "source": [
    "In this notebook, we'll delve into the ways in which you can **boost your GPT Smart Search Engine with web search functionalities**, utilizing both Langchain and the Azure Bing Search API service.\n",
    "\n",
    "As previously discussed in our other notebooks, **harnessing agents and tools is an effective approach**. We aim to leverage the capabilities of OpenAI's large language models (LLM), such as GPT-4 and its successors, to perform the heavy lifting of reasoning and researching on our behalf.\n",
    "\n",
    "There are numerous instances where it is necessary for our Smart Search Engine to have internet access. For instance, we may wish to **enrich an answer with information available on the web**, or **provide users with up-to-date and recent information**, or **finding information on an specific public website**. Regardless of the scenario, we require our engine to base its responses on search results.\n",
    "\n",
    "By the conclusion of this notebook, you'll have a solid understanding of the Bing Search API basics, including **how to create a Web Search Agent using the Bing Search API**, and how these tools can strengthen your chatbot. Additionally, you'll learn about **Callback Handlers, their use, and their significance in bot applications**."
   ]
  },
  {
   "cell_type": "code",
   "execution_count": 35,
   "id": "c1fb79a3-4856-4721-988c-112813690a90",
   "metadata": {},
   "outputs": [],
   "source": [
    "import requests\n",
    "from typing import Dict, List\n",
    "from pydantic import BaseModel, Extra, root_validator\n",
    "\n",
    "from langchain.chat_models import AzureChatOpenAI\n",
    "from langchain.agents import AgentExecutor\n",
    "from langchain.callbacks.manager import CallbackManager\n",
    "from langchain.agents import initialize_agent, AgentType\n",
    "from langchain.tools import BaseTool\n",
    "from langchain.utilities import BingSearchAPIWrapper\n",
    "\n",
    "from common.callbacks import StdOutCallbackHandler\n",
    "from common.prompts import BING_PROMPT_PREFIX\n",
    "\n",
    "from IPython.display import Markdown, HTML, display  \n",
    "\n",
    "from dotenv import load_dotenv\n",
    "load_dotenv(\"credentials.env\")\n",
    "\n",
    "def printmd(string):\n",
    "    display(Markdown(string.replace(\"$\",\"USD \")))\n",
    "\n",
    "# GPT-4 models are necessary for this feature. GPT-35-turbo will make mistakes multiple times on following system prompt instructions.\n",
    "MODEL_DEPLOYMENT_NAME = \"gpt-4-32k\" "
   ]
  },
  {
   "cell_type": "code",
   "execution_count": 36,
   "id": "258a6e99-2d4f-4147-b8ee-c64c85296181",
   "metadata": {},
   "outputs": [],
   "source": [
    "# Set the ENV variables that Langchain needs to connect to Azure OpenAI\n",
    "os.environ[\"OPENAI_API_BASE\"] = os.environ[\"AZURE_OPENAI_ENDPOINT\"]\n",
    "os.environ[\"OPENAI_API_KEY\"] = os.environ[\"AZURE_OPENAI_API_KEY\"]\n",
    "os.environ[\"OPENAI_API_VERSION\"] = os.environ[\"AZURE_OPENAI_API_VERSION\"]\n",
    "os.environ[\"OPENAI_API_TYPE\"] = \"azure\""
   ]
  },
  {
   "cell_type": "markdown",
   "id": "1e8e0b32-a6b5-4b1c-943d-e57b737213fa",
   "metadata": {},
   "source": [
    "## Introduction to Callback Handlers"
   ]
  },
  {
   "cell_type": "markdown",
   "id": "003327ac-2851-48ef-8a6b-2d8c2004bb2e",
   "metadata": {},
   "source": [
    "This following explanation comes directly from the Langchain documentation about Callbacks ([HERE](https://python.langchain.com/docs/modules/callbacks/)):\n",
    "\n",
    "**Callbacks**:<br>\n",
    "LangChain provides a callbacks system that allows you to hook into the various stages of your LLM application. This is useful for logging, monitoring, streaming, and other tasks. You can subscribe to these events by using the callbacks argument available throughout the API. This argument is list of handler objects.\n",
    "\n",
    "**Callback handlers**:<br>\n",
    "CallbackHandlers are objects that implement the CallbackHandler interface, which has a method for each event that can be subscribed to. The CallbackManager will call the appropriate method on each handler when the event is triggered.\n",
    "\n",
    "--------------------\n",
    "We will incorporate a handler for the callbacks, enabling us to observe the response as it streams and to gain insights into the Agent's reasoning process. This will prove incredibly valuable when we aim to stream the bot's responses to users and keep them informed about the ongoing process as they await the answer.\n",
    "\n",
    "Our custom handler is on the folder `common/callbacks.py`. Go and take a look at it."
   ]
  },
  {
   "cell_type": "code",
   "execution_count": 37,
   "id": "9d3daf03-77e2-466e-a255-2f06bee3561b",
   "metadata": {},
   "outputs": [],
   "source": [
    "cb_handler = StdOutCallbackHandler()\n",
    "cb_manager = CallbackManager(handlers=[cb_handler])"
   ]
  },
  {
   "cell_type": "code",
   "execution_count": 38,
   "metadata": {},
   "outputs": [],
   "source": [
    "# Now we declare our LLM object with the callback handler \n",
    "# llm = AzureChatOpenAI(deployment_name=MODEL_DEPLOYMENT_NAME, temperature=0, max_tokens=1000)\n",
    "\n",
    "# or uncomment the below line if you want to see the responses being streamed\n",
    "llm = AzureChatOpenAI(deployment_name=MODEL_DEPLOYMENT_NAME, temperature=0, max_tokens=1000, streaming=True, callback_manager=cb_manager)"
   ]
  },
  {
   "cell_type": "markdown",
   "id": "11da70c2-60b6-47fb-94f1-aa11291fa40c",
   "metadata": {},
   "source": [
    "## Creating a custom tool - Bing Search API tool"
   ]
  },
  {
   "cell_type": "markdown",
   "id": "4dc30c9d-605d-4ada-9358-f926aeed2e48",
   "metadata": {},
   "source": [
    "Langhain has already a pre-created tool called BingSearchAPIWrapper ([HERE](https://github.com/hwchase17/langchain/blob/master/langchain/utilities/bing_search.py)), however we are going to make it a bit better by using the results function instead of the run function, that way we not only have the text results, but also the title and link(source) of each snippet."
   ]
  },
  {
   "cell_type": "code",
   "execution_count": 39,
   "id": "d3d155ae-16eb-458a-b2ed-5aa9a9b84ed8",
   "metadata": {},
   "outputs": [],
   "source": [
    "class MyBingSearch(BaseTool):\n",
    "    \"\"\"Tool for a Bing Search Wrapper\"\"\"\n",
    "    \n",
    "    name = \"@bing\"\n",
    "    description = \"useful when the questions includes the term: @bing.\\n\"\n",
    "\n",
    "    k: int = 5\n",
    "    \n",
    "    def _run(self, query: str) -> str:\n",
    "        bing = BingSearchAPIWrapper(k=self.k)\n",
    "        return bing.results(query, num_results=self.k)\n",
    "            \n",
    "    async def _arun(self, query: str) -> str:\n",
    "        \"\"\"Use the tool asynchronously.\"\"\"\n",
    "        raise NotImplementedError(\"This Tool does not support async\")"
   ]
  },
  {
   "cell_type": "markdown",
   "id": "0a3d6569-0c61-4b1c-9263-431304577551",
   "metadata": {},
   "source": [
    "Now, we create our REACT agent that uses our custom tool and our custom prompt `BING_PROMPT_PREFIX`"
   ]
  },
  {
   "cell_type": "code",
   "execution_count": 40,
   "id": "2c6cf721-76bb-47b6-aeeb-9ff4ff92b1f4",
   "metadata": {},
   "outputs": [],
   "source": [
    "tools = [MyBingSearch(k=5)]\n",
    "agent_executor = initialize_agent(tools, llm, agent=AgentType.ZERO_SHOT_REACT_DESCRIPTION, \n",
    "                         agent_kwargs={'prefix':BING_PROMPT_PREFIX})\n",
    "\n",
    "# agent_executor = initialize_agent(tools, llm, agent=AgentType.ZERO_SHOT_REACT_DESCRIPTION, \n",
    "#                          agent_kwargs={'prefix':BING_PROMPT_PREFIX}, callback_manager=cb_manager)\n"
   ]
  },
  {
   "cell_type": "markdown",
   "id": "7232260e-e972-4288-b0b5-0b605e584528",
   "metadata": {},
   "source": [
    "Try some of the below questions, or others that you might like"
   ]
  },
  {
   "cell_type": "code",
   "execution_count": 11,
   "id": "fa949cea-c9aa-4529-a75f-61084ffffd7e",
   "metadata": {},
   "outputs": [],
   "source": [
    "QUESTION = \"Create a list with the main facts on What is happening with the oil supply in the world right now?\"\n",
    "QUESTION = \"What are the latest news on OpenAI and Sam Altman?\"\n",
    "# QUESTION = \"How much is 50 USD in Euros and is it enough for an average hotel in Madrid?\"\n",
    "# QUESTION = \"My son needs to build a pinewood car for a pinewood derbi, how do I build such a car?\"\n",
    "# QUESTION = \"Who won the 2023 superbowl and who was the MVP?\"\n",
    "# QUESTION = \"can I travel to Hawaii, Maui from Dallas, TX for 7 days with $7000 on the month of September, what are the best days to travel?\"\n",
    "\n",
    "\n",
    "# This complex question below needs gpt-4-32k (0613 version) in order to ensure a good answer. \n",
    "# ---------------\n",
    "QUESTION = \"\"\"\n",
    "compare the number of job opennings (provide the exact number), the average salary within 15 miles of Dallas, TX, for these ocupations:\n",
    "\n",
    "- ADN Registerd Nurse \n",
    "- Occupational therapist assistant\n",
    "- Dental Hygienist\n",
    "- Graphic Designer\n",
    "- Real Estate Agent\n",
    "\n",
    "Create a table with your findings. Place the sources on each cell.\n",
    "\"\"\""
   ]
  },
  {
   "cell_type": "code",
   "execution_count": 12,
   "metadata": {},
   "outputs": [
    {
     "name": "stdout",
     "output_type": "stream",
     "text": [
      "The user is asking for a comparison of job openings and average salaries for five different occupations within 15 miles of Dallas, TX. I will need to perform multiple searches to gather this information. I will start by searching for the number of job openings and average salary for an ADN Registered Nurse in Dallas, TX. \n",
      "\n",
      "Action: @bing\n",
      "Action Input: ADN Registered Nurse job openings and average salary in Dallas, TXI found that there are 882 job openings for ADN Registered Nurses in Dallas, TX<sup><a href=\"https://www.indeed.com/q-RN-Adn-l-Dallas,-TX-jobs.html\" target=\"_blank\">[1]</a></sup>. The average salary for a Registered Nurse in Dallas, TX is between $61,428 and $110,169<sup><a href=\"https://www.salary.com/research/salary/general/registered-nurse-rn-salary/dallas-tx\" target=\"_blank\">[2]</a></sup>. Now, I will search for the number of job openings and average salary for an Occupational Therapist Assistant in Dallas, TX.\n",
      "\n",
      "Action: @bing\n",
      "Action Input: Occupational Therapist Assistant job openings and average salary in Dallas, TXI found that there are 227 job openings for Occupational Therapist Assistants in Dallas, TX<sup><a href=\"https://www.indeed.com/q-Occupational-Therapy-Assistant-l-Dallas,-TX-jobs.html\" target=\"_blank\">[3]</a></sup>. The average salary for an Occupational Therapy Assistant in Dallas, TX is between $59,142 and $71,990<sup><a href=\"https://www.salary.com/research/salary/listing/occupational-therapy-assistant-salary/dallas-tx\" target=\"_blank\">[4]</a></sup>. Now, I will search for the number of job openings and average salary for a Dental Hygienist in Dallas, TX.\n",
      "\n",
      "Action: @bing\n",
      "Action Input: Dental Hygienist job openings and average salary in Dallas, TXI found that the average salary for a Dental Hygienist in Dallas, TX is between $72,186 and $91,349<sup><a href=\"https://www.salary.com/research/salary/benchmark/dental-hygienist-salary/dallas-tx\" target=\"_blank\">[5]</a></sup>. However, I couldn't find the exact number of job openings for Dental Hygienists in Dallas, TX. I will perform another search to find this information.\n",
      "\n",
      "Action: @bing\n",
      "Action Input: Dental Hygienist job openings in Dallas, TXI found that there are 178 job openings for Dental Hygienists in Dallas, TX<sup><a href=\"https://www.indeed.com/q-Dental-Hygienist-l-Dallas,-TX-jobs.html\" target=\"_blank\">[6]</a></sup>. Now, I will search for the number of job openings and average salary for a Graphic Designer in Dallas, TX.\n",
      "\n",
      "Action: @bing\n",
      "Action Input: Graphic Designer job openings and average salary in Dallas, TXI found that the average salary for a Graphic Designer in Dallas, TX is between $48,092 and $56,588<sup><a href=\"https://www.salary.com/research/salary/recruiting/graphic-designer-salary/dallas-tx\" target=\"_blank\">[7]</a></sup>. However, I couldn't find the exact number of job openings for Graphic Designers in Dallas, TX. I will perform another search to find this information.\n",
      "\n",
      "Action: @bing\n",
      "Action Input: Graphic Designer job openings in Dallas, TXI found that there are 93 job openings for Graphic Designers in Dallas, TX<sup><a href=\"https://www.indeed.com/q-Graphic-Designer-l-Dallas,-TX-jobs.html\" target=\"_blank\">[8]</a></sup>. Now, I will search for the number of job openings and average salary for a Real Estate Agent in Dallas, TX.\n",
      "\n",
      "Action: @bing\n",
      "Action Input: Real Estate Agent job openings and average salary in Dallas, TXI found that the average salary for a Real Estate Agent in Dallas, TX is between $44,385 and $57,792<sup><a href=\"https://www.salary.com/research/salary/benchmark/real-estate-agent-salary/dallas-tx\" target=\"_blank\">[9]</a></sup>. However, I couldn't find the exact number of job openings for Real Estate Agents in Dallas, TX. I will perform another search to find this information.\n",
      "\n",
      "Action: @bing\n",
      "Action Input: Real Estate Agent job openings in Dallas, TXI found that there are 263 job openings for Real Estate Agents in Dallas, TX<sup><a href=\"https://www.indeed.com/q-Real-Estate-Agent-l-Dallas,-TX-jobs.html\" target=\"_blank\">[10]</a></sup>. Now, I have all the information needed to create the table.\n",
      "\n",
      "Final Answer: Here is the comparison of job openings and average salaries for the specified occupations within 15 miles of Dallas, TX:\n",
      "\n",
      "| Occupation | Job Openings | Average Salary |\n",
      "| --- | --- | --- |\n",
      "| ADN Registered Nurse | 882<sup><a href=\"https://www.indeed.com/q-RN-Adn-l-Dallas,-TX-jobs.html\" target=\"_blank\">[1]</a></sup> | $61,428 - $110,169<sup><a href=\"https://www.salary.com/research/salary/general/registered-nurse-rn-salary/dallas-tx\" target=\"_blank\">[2]</a></sup> |\n",
      "| Occupational Therapist Assistant | 227<sup><a href=\"https://www.indeed.com/q-Occupational-Therapy-Assistant-l-Dallas,-TX-jobs.html\" target=\"_blank\">[3]</a></sup> | $59,142 - $71,990<sup><a href=\"https://www.salary.com/research/salary/listing/occupational-therapy-assistant-salary/dallas-tx\" target=\"_blank\">[4]</a></sup> |\n",
      "| Dental Hygienist | 178<sup><a href=\"https://www.indeed.com/q-Dental-Hygienist-l-Dallas,-TX-jobs.html\" target=\"_blank\">[6]</a></sup> | $72,186 - $91,349<sup><a href=\"https://www.salary.com/research/salary/benchmark/dental-hygienist-salary/dallas-tx\" target=\"_blank\">[5]</a></sup> |\n",
      "| Graphic Designer | 93<sup><a href=\"https://www.indeed.com/q-Graphic-Designer-l-Dallas,-TX-jobs.html\" target=\"_blank\">[8]</a></sup> | $48,092 - $56,588<sup><a href=\"https://www.salary.com/research/salary/recruiting/graphic-designer-salary/dallas-tx\" target=\"_blank\">[7]</a></sup> |\n",
      "| Real Estate Agent | 263<sup><a href=\"https://www.indeed.com/q-Real-Estate-Agent-l-Dallas,-TX-jobs.html\" target=\"_blank\">[10]</a></sup> | $44,385 - $57,792<sup><a href=\"https://www.salary.com/research/salary/benchmark/real-estate-agent-salary/dallas-tx\" target=\"_blank\">[9]</a></sup> |\n",
      "\n",
      "Is there anything else you would like to know?"
     ]
    }
   ],
   "source": [
    "#As LLMs responses are never the same, we do a for loop in case the answer cannot be parsed according to our prompt instructions\n",
    "for i in range(2):\n",
    "    try:\n",
    "        response = agent_executor.run(QUESTION)\n",
    "        break\n",
    "    except Exception as e:\n",
    "        response = str(e)\n",
    "        continue"
   ]
  },
  {
   "cell_type": "code",
   "execution_count": 13,
   "id": "25a410b2-9950-43f5-8f14-b333bdc24ff2",
   "metadata": {},
   "outputs": [
    {
     "data": {
      "text/markdown": [
       "Here is the comparison of job openings and average salaries for the specified occupations within 15 miles of Dallas, TX:\n",
       "\n",
       "| Occupation | Job Openings | Average Salary |\n",
       "| --- | --- | --- |\n",
       "| ADN Registered Nurse | 882<sup><a href=\"https://www.indeed.com/q-RN-Adn-l-Dallas,-TX-jobs.html\" target=\"_blank\">[1]</a></sup> | USD 61,428 - USD 110,169<sup><a href=\"https://www.salary.com/research/salary/general/registered-nurse-rn-salary/dallas-tx\" target=\"_blank\">[2]</a></sup> |\n",
       "| Occupational Therapist Assistant | 227<sup><a href=\"https://www.indeed.com/q-Occupational-Therapy-Assistant-l-Dallas,-TX-jobs.html\" target=\"_blank\">[3]</a></sup> | USD 59,142 - USD 71,990<sup><a href=\"https://www.salary.com/research/salary/listing/occupational-therapy-assistant-salary/dallas-tx\" target=\"_blank\">[4]</a></sup> |\n",
       "| Dental Hygienist | 178<sup><a href=\"https://www.indeed.com/q-Dental-Hygienist-l-Dallas,-TX-jobs.html\" target=\"_blank\">[6]</a></sup> | USD 72,186 - USD 91,349<sup><a href=\"https://www.salary.com/research/salary/benchmark/dental-hygienist-salary/dallas-tx\" target=\"_blank\">[5]</a></sup> |\n",
       "| Graphic Designer | 93<sup><a href=\"https://www.indeed.com/q-Graphic-Designer-l-Dallas,-TX-jobs.html\" target=\"_blank\">[8]</a></sup> | USD 48,092 - USD 56,588<sup><a href=\"https://www.salary.com/research/salary/recruiting/graphic-designer-salary/dallas-tx\" target=\"_blank\">[7]</a></sup> |\n",
       "| Real Estate Agent | 263<sup><a href=\"https://www.indeed.com/q-Real-Estate-Agent-l-Dallas,-TX-jobs.html\" target=\"_blank\">[10]</a></sup> | USD 44,385 - USD 57,792<sup><a href=\"https://www.salary.com/research/salary/benchmark/real-estate-agent-salary/dallas-tx\" target=\"_blank\">[9]</a></sup> |\n",
       "\n",
       "Is there anything else you would like to know?"
      ],
      "text/plain": [
       "<IPython.core.display.Markdown object>"
      ]
     },
     "metadata": {},
     "output_type": "display_data"
    }
   ],
   "source": [
    "printmd(response)"
   ]
  },
  {
   "cell_type": "markdown",
   "id": "e9ba3e35-8021-4262-8494-d1aee3862f7e",
   "metadata": {},
   "source": [
    "## QnA to specific websites\n",
    "\n",
    "There are several use cases where we want the smart bot to answer questions about a specific company's public website. There are two approaches we can take:\n",
    "\n",
    "1. Create a crawler script that runs regularly, finds every page on the website, and pushes the documents to Azure Cognitive Search.\n",
    "2. Since Bing has likely already indexed the public website, we can utilize Bing search targeted specifically to that site, rather than attempting to index the site ourselves and duplicate the work already done by Bing's crawler.\n",
    "\n",
    "Below are some sample questions related to specific sites. Take a look:"
   ]
  },
  {
   "cell_type": "code",
   "execution_count": 41,
   "id": "e925ee4a-d295-4815-9e8c-bd6999f48892",
   "metadata": {},
   "outputs": [],
   "source": [
    "# QUESTION = \"information on how to kill wasps in homedepot.com\"\n",
    "# QUESTION = \"in target.com, find how what's the price of a Nesspresso coffee machine and of a Keurig coffee machine\"\n",
    "# QUESTION = \"in microsoft.com, find out what is the latests news on quantum computing\"\n",
    "QUESTION = \"give me on a list the main points on the latest investor report from mondelezinternational.com\"\n",
    "QUESTION = \"Vem är regionsstyrelsens ordförande i Västerbotten, kolla på regionvasterbotten.se\"\n",
    "QUESTION = \"Vem är CIO i Västerbotten, kolla på regionvasterbotten.se\"\n",
    "QUESTION = \"Vem är CIO på Region Västerbotten\"\n",
    "QUESTION = \"Vilka lediga jobbroller ligger ute på regionvasterbotten.se\"\n",
    "# Kan du sammanfatta de viktigaste punkterna från Region Västerbottens aktuella digitaliseringsstrategin från regionvasterbotten.se\""
   ]
  },
  {
   "cell_type": "code",
   "execution_count": 42,
   "id": "099830a1-b81d-4698-a458-e84ccf3989cc",
   "metadata": {},
   "outputs": [
    {
     "name": "stdout",
     "output_type": "stream",
     "text": [
      "The user is asking for available job roles on a specific website, regionvasterbotten.se. I will need to perform a web search to find this information.\n",
      "Action: @bing\n",
      "Action Input: site:regionvasterbotten.se lediga jobbThe search results provide some information about job opportunities at Region Västerbotten. However, they do not provide a clear list of available job roles. I will need to perform another search to find more specific information.\n",
      "Action: @bing\n",
      "Action Input: lediga jobb site:regionvasterbotten.seThe search results still do not provide a clear list of available job roles at Region Västerbotten. However, there are mentions of roles such as AT-, BT- and ST-läkare, PTP-psykolog, ST-tandläkare, and Regional Utvecklingsdirektör. There is also a mention of summer jobs for 2023. I will now compile this information into a final answer.\n",
      "Final Answer: The website of Region Västerbotten mentions several job roles and opportunities, including positions for AT-, BT- and ST-läkare, PTP-psykolog, ST-tandläkare, and Regional Utvecklingsdirektör. There is also a mention of summer jobs for 2023. However, for a complete and updated list of available job roles, it would be best to visit the official website of Region Västerbotten<sup><a href=\"https://regionvasterbotten.se/\" target=\"_blank\">[1]</a></sup>."
     ]
    }
   ],
   "source": [
    "#As LLMs responses are never the same, we do a for loop in case the answer cannot be parsed according to our prompt instructions\n",
    "for i in range(2):\n",
    "    try:\n",
    "        response = agent_executor.run(QUESTION) \n",
    "        break\n",
    "    except Exception as e:\n",
    "        response = str(e)\n",
    "        continue"
   ]
  },
  {
   "cell_type": "code",
   "execution_count": 43,
   "id": "89e67095-277d-45b6-84aa-acef0eb6cf5f",
   "metadata": {},
   "outputs": [
    {
     "data": {
      "text/markdown": [
       "The website of Region Västerbotten mentions several job roles and opportunities, including positions for AT-, BT- and ST-läkare, PTP-psykolog, ST-tandläkare, and Regional Utvecklingsdirektör. There is also a mention of summer jobs for 2023. However, for a complete and updated list of available job roles, it would be best to visit the official website of Region Västerbotten<sup><a href=\"https://regionvasterbotten.se/\" target=\"_blank\">[1]</a></sup>."
      ],
      "text/plain": [
       "<IPython.core.display.Markdown object>"
      ]
     },
     "metadata": {},
     "output_type": "display_data"
    }
   ],
   "source": [
    "printmd(response)"
   ]
  },
  {
   "cell_type": "code",
   "execution_count": 13,
   "id": "9782fafa-9453-46be-b9d7-b33088f61ac8",
   "metadata": {},
   "outputs": [],
   "source": [
    "# Uncomment if you want to take a look at the custom bing search prompt (This is where the magic happens: a great system promp + GPT-4)\n",
    "# printmd(agent_executor.agent.llm_chain.prompt.template)"
   ]
  },
  {
   "cell_type": "markdown",
   "id": "56cbc405-26e2-471e-9626-2a0df07f5ddc",
   "metadata": {},
   "source": [
    "# Summary"
   ]
  },
  {
   "cell_type": "markdown",
   "id": "7381ea5f-7269-4e1f-8b0c-1e2c04bd84c0",
   "metadata": {},
   "source": [
    "In this notebook, we learned about Callback Handlers and how to stream the response from the LLM. We also learn how to create a Bing Chat clone using a clever prompt with specific search and formatting instructions.\n",
    "\n",
    "The outcome is an agent capable of conducting intelligent web searches and performing research on our behalf. This agent provides us with answers to our questions along with appropriate URL citations and links!"
   ]
  },
  {
   "cell_type": "markdown",
   "id": "02073623-91b4-40d6-8eaf-cb6d9c6a7a9a",
   "metadata": {},
   "source": [
    "# NEXT\n",
    "\n",
    "The Next Notebook will guide you on how we stick everything together. How do we use the features of all notebooks and create a brain agent that can respond to any request accordingly."
   ]
  }
 ],
 "metadata": {
  "kernelspec": {
   "display_name": "Python 3.10 - SDK v2",
   "language": "python",
   "name": "python310-sdkv2"
  }
 },
 "nbformat": 4,
 "nbformat_minor": 5
}
